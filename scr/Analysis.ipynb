{
 "cells": [
  {
   "cell_type": "markdown",
   "metadata": {},
   "source": [
    "# Table of Content"
   ]
  },
  {
   "cell_type": "markdown",
   "metadata": {},
   "source": [
    "- [Table of Content](#table-of-content)\n",
    "- [0-General](#0-general)\n",
    "  - [Introduction](#introduction)\n",
    "  - [Objectives](#objective)\n",
    "  - [Analysis steps](#analysis-steps)\n",
    "  - [Data dictionary](#data-dictionary)\n",
    "  - [Acknowledgments](#acknowledgements)\n",
    "  - [Packages](#packages)\n",
    "- [1-Data Exploration](#1-data-exploration)\n",
    "- [2-Data Preprocessing](#2-data-preprocessing)\n",
    "- [3-Analyses - ITT](#3-analyses)\n",
    "  - [In Depth Exploratory Data Analysis]\n",
    "  - [Attrition Analysis]\n",
    "  - [Compliance Analysis]\n",
    "  - [Data Imputation]\n",
    "  - [Statistical Model]\n",
    "  - [Assumptions]\n",
    "- [4-Analyses - PP]\n",
    "  - [In Depth Exploratory Data Analysis]\n",
    "  - [Attrition Analysis]\n",
    "  - [Compliance Analysis]\n",
    "  - [Data Imputation]\n",
    "  - [Statistical Model]\n",
    "  - [Assumptions]\n",
    "- [5-Sensitivity Analysis]\n",
    "- [6-General Conclusion]"
   ]
  },
  {
   "cell_type": "markdown",
   "metadata": {},
   "source": [
    "# 0-General\n",
    "[Back to Table of Content](#table-of-content)\n",
    "# Exploring the Effects of Hypnotherapy and Aromatherapy via MindspaceOne"
   ]
  },
  {
   "cell_type": "markdown",
   "metadata": {},
   "source": [
    "## Introduction\n",
    "[Back to Table of Content](#table-of-content)\n",
    "\n",
    "The **MindspaceOne** project investigates the effects of combining hypnotherapy and aromatherapy, delivered via a smartphone-based platform, on individuals' ability to achieve targeted states of relaxation or concentration. As modern life grows increasingly stressful, particularly among younger individuals, there is a pressing need for accessible interventions to support mental health and well-being. This project seeks to evaluate whether coupling hypnotherapy with aromatherapy through classical conditioning can enhance the effectiveness of these interventions.\n",
    "\n",
    "In this controlled, randomized experimental pilot study, participants are assigned to one of four groups: (I) Hypnotherapy + Aromatherapy, (II) Hypnotherapy alone, (III) Aromatherapy alone, or (IV) a control group. Over a 4-week period, participants will engage with the assigned treatment daily, followed by a 1-week test phase for conditioning effects in selected groups."
   ]
  },
  {
   "cell_type": "markdown",
   "metadata": {},
   "source": [
    "## Objective\n",
    "[Back to Table of Content](#table-of-content)\n",
    "\n",
    "The primary objective of this study is to assess whether daily hypnotherapy sessions, with or without aromatherapy, can improve participants' relaxation and concentration as measured by the **Multidimensional Mood Questionnaire (MDBF)** subscales. Secondary objectives include evaluating whether the effects of hypnotherapy can be conditioned to aromatherapy and exploring the influence of other variables such as age, gender, and stress levels.\n",
    "\n",
    "## Hypotheses\n",
    "#### Primary Hypothesis (H1):\n",
    "- Hypnotherapy, delivered via a smartphone-based platform, enhances relaxation and concentration, as indicated by improvements on the MDBF subscales (calculated as the change from baseline to the end of the 4-week intervention).\n",
    "\n",
    "#### Secondary Hypotheses:\n",
    "1. Aromatherapy combined with hypnotherapy enhances the conditioning effect, where aromatherapy alone can trigger the same relaxation or concentration effects as hypnotherapy.\n",
    "2. Exploratory analysis will examine the effects on perceived stress (PSS) and well-being (WHO-5), as well as the moderating role of age, gender, and socioeconomic status.\n"
   ]
  },
  {
   "cell_type": "markdown",
   "metadata": {},
   "source": [
    "## Analysis steps\n",
    "[Back to Table of Content](#table-of-content)\n",
    "\n",
    "1. **In-Depth Exploratory Data Analysis:** Examine the structure and distribution of data. Identify outliers and assess relationships between variables. Visualize data for key insights.\n",
    "2. **Attrition Analysis:** Assess dropout patterns and identify potential biases due to participant attrition.\n",
    "3. **Compliance Analysis:** Evaluate adherence to the intervention protocols across groups to determine the consistency of treatments.\n",
    "4. **Data Imputation:** Address missing data through multiple imputation techniques, ensuring robust statistical analysis.\n",
    "5. **Model:** Fit a mixed effects model to evaluate changes over time and between groups for primary and secondary outcomes. Test for differences between groups using inferential statistics.\n",
    "6. **Assumptions:** Validate statistical assumptions, including normality of residuals, homogeneity of variances, and absence of significant outliers."
   ]
  },
  {
   "cell_type": "markdown",
   "metadata": {},
   "source": [
    "## Data Dictionary\n",
    "[Back to Table of Content](#table-of-content)\n",
    "\n",
    "| Variable              | Description                                             | Data Type   |\n",
    "|-----------------------|---------------------------------------------------------|-------------|\n",
    "| Participant_ID        | Unique identifier for each participant                  | Character   |\n",
    "| Group                 | Assigned intervention group (I, II, III, IV)            | Character   |\n",
    "| V0_MDBF_WM            | Baseline score for Wakefulness-Fatigue (MDBF subscale)  | Numeric     |\n",
    "| V0_MDBF_RU            | Baseline score for Calmness-Restlessness (MDBF subscale)| Numeric     |\n",
    "| Daily_Session_Usage   | Count of sessions completed daily                       | Numeric     |\n",
    "| Aroma_Used            | Binary indicator for aromatherapy use (1 = Yes, 0 = No)| Binary      |\n",
    "| VAS_Preload_Relax     | Pre-treatment relaxation score (Visual Analog Scale)    | Numeric     |\n",
    "| VAS_Postload_Relax    | Post-treatment relaxation score (Visual Analog Scale)   | Numeric     |\n",
    "| ...                   | ...                                                     | ...         |"
   ]
  },
  {
   "cell_type": "markdown",
   "metadata": {},
   "source": [
    "## Acknowledgements\n",
    "[Back to Table of Content](#table-of-content)\n",
    "\n",
    "We extended our gratitude to Priv.-Doz. Dr. Michael Teut for his invaluable contribution to the execution of this study. We also express gratitude to the entire research group of [Prof. Dr. med. Seifert](https://kinderonkologie.charite.de/forschung/ag_seifert/team/) and all participating kindergartens and participants for their invalubale contributions to this study as well as thanks to the funding agencies. Statistical analysis was conducted by Dr. Steven Schepanski, who also oversaw this notebook.\n"
   ]
  },
  {
   "cell_type": "markdown",
   "metadata": {},
   "source": [
    "# Packages\n",
    "[Back to Table of Content](#table-of-content)"
   ]
  },
  {
   "cell_type": "code",
   "execution_count": 3,
   "metadata": {
    "vscode": {
     "languageId": "r"
    }
   },
   "outputs": [],
   "source": [
    "# Define required packages\n",
    "packages <- c(\"dplyr\", \"ggplot2\", \"tidyr\", \"readr\", \"purrr\", \"stringr\",\n",
    "              \"lubridate\", \"data.table\", \"plyr\", \"reshape2\", \"MASS\",\n",
    "              \"readxl\", \"mice\", \"gridExtra\", \"rlang\", \"glmmTMB\", \"DHARMa\")\n",
    "\n",
    "# Function to install and load packages silently\n",
    "install_and_load <- function(pkg) {\n",
    "  if (!requireNamespace(pkg, quietly = TRUE)) install.packages(pkg, quiet = TRUE)\n",
    "  suppressPackageStartupMessages(library(pkg, character.only = TRUE, quietly = TRUE, warn.conflicts = FALSE))\n",
    "}\n",
    "\n",
    "# Apply function to all packages\n",
    "invisible(lapply(packages, install_and_load))"
   ]
  },
  {
   "cell_type": "code",
   "execution_count": 4,
   "metadata": {
    "vscode": {
     "languageId": "r"
    }
   },
   "outputs": [],
   "source": [
    "# Define the working directory\n",
    "path <- \"/Users/stevenschepanski/Documents/04_ANALYSIS/MindspaceOne\""
   ]
  },
  {
   "cell_type": "code",
   "execution_count": 6,
   "metadata": {
    "vscode": {
     "languageId": "r"
    }
   },
   "outputs": [
    {
     "name": "stderr",
     "output_type": "stream",
     "text": [
      "\u001b[1mRows: \u001b[22m\u001b[34m6828\u001b[39m \u001b[1mColumns: \u001b[22m\u001b[34m64\u001b[39m\n",
      "\u001b[36m--\u001b[39m \u001b[1mColumn specification\u001b[22m \u001b[36m--------------------------------------------------------\u001b[39m\n",
      "\u001b[1mDelimiter:\u001b[22m \",\"\n",
      "\u001b[31mchr\u001b[39m  (13): Serial_Nr, Quest_Nr, questions_ended, viewer, my_group, gender, a...\n",
      "\u001b[32mdbl\u001b[39m  (50): where_did_the_viewer_ended, where_did_the_participant_ended, prop...\n",
      "\u001b[34mdttm\u001b[39m  (1): time_started\n",
      "\n",
      "\u001b[36mi\u001b[39m Use `spec()` to retrieve the full column specification for this data.\n",
      "\u001b[36mi\u001b[39m Specify the column types or set `show_col_types = FALSE` to quiet this message.\n"
     ]
    }
   ],
   "source": [
    "# Read in data\n",
    "mind <- read_csv(file.path(path, \"data\", \"cleaned_mindspaceone_2025-Jan-30.csv\"))"
   ]
  },
  {
   "cell_type": "markdown",
   "metadata": {},
   "source": [
    "# 1-Data Exploration\n",
    "[Back to Table of Content](#table-of-content)"
   ]
  },
  {
   "cell_type": "code",
   "execution_count": 7,
   "metadata": {
    "vscode": {
     "languageId": "r"
    }
   },
   "outputs": [
    {
     "data": {
      "text/html": [
       "<table class=\"dataframe\">\n",
       "<caption>A tibble: 6 x 64</caption>\n",
       "<thead>\n",
       "\t<tr><th scope=col>Serial_Nr</th><th scope=col>Quest_Nr</th><th scope=col>time_started</th><th scope=col>questions_ended</th><th scope=col>viewer</th><th scope=col>where_did_the_viewer_ended</th><th scope=col>where_did_the_participant_ended</th><th scope=col>proportion_missing_answers</th><th scope=col>proportion_missing_answers_weighted</th><th scope=col>answering_speed</th><th scope=col>...</th><th scope=col>who5_5</th><th scope=col>pre_mood</th><th scope=col>pre_emotions</th><th scope=col>post_mood</th><th scope=col>post_emotions</th><th scope=col>aroma_received</th><th scope=col>aroma_tested</th><th scope=col>occupation</th><th scope=col>stressors</th><th scope=col>relaxation</th></tr>\n",
       "\t<tr><th scope=col>&lt;chr&gt;</th><th scope=col>&lt;chr&gt;</th><th scope=col>&lt;dttm&gt;</th><th scope=col>&lt;chr&gt;</th><th scope=col>&lt;chr&gt;</th><th scope=col>&lt;dbl&gt;</th><th scope=col>&lt;dbl&gt;</th><th scope=col>&lt;dbl&gt;</th><th scope=col>&lt;dbl&gt;</th><th scope=col>&lt;dbl&gt;</th><th scope=col>...</th><th scope=col>&lt;dbl&gt;</th><th scope=col>&lt;dbl&gt;</th><th scope=col>&lt;dbl&gt;</th><th scope=col>&lt;dbl&gt;</th><th scope=col>&lt;dbl&gt;</th><th scope=col>&lt;dbl&gt;</th><th scope=col>&lt;dbl&gt;</th><th scope=col>&lt;chr&gt;</th><th scope=col>&lt;chr&gt;</th><th scope=col>&lt;chr&gt;</th></tr>\n",
       "</thead>\n",
       "<tbody>\n",
       "\t<tr><td>LQC2G9NUZM</td><td>Sozio</td><td>2024-07-14 21:25:50</td><td>finished</td><td>participants</td><td> 9</td><td> 9</td><td> 9</td><td> 1</td><td>0.31</td><td>...</td><td>NA</td><td>NA</td><td>NA</td><td>NA</td><td>NA</td><td>NA</td><td>NA</td><td>Employee     </td><td>Seated Work   </td><td>Sport              </td></tr>\n",
       "\t<tr><td>QAW8A947WE</td><td>Sozio</td><td>2024-07-16 07:48:39</td><td>finished</td><td>participants</td><td> 9</td><td> 9</td><td> 9</td><td> 1</td><td>0.86</td><td>...</td><td>NA</td><td>NA</td><td>NA</td><td>NA</td><td>NA</td><td>NA</td><td>NA</td><td>Self-Employed</td><td>Weekend Work  </td><td>Breathing Exercises</td></tr>\n",
       "\t<tr><td>QAW8A947WE</td><td>V0   </td><td>2024-07-16 07:51:46</td><td>finished</td><td>participants</td><td>13</td><td>13</td><td> 0</td><td> 0</td><td>1.20</td><td>...</td><td> 6</td><td>NA</td><td>NA</td><td>NA</td><td>NA</td><td>NA</td><td>NA</td><td>NA           </td><td>None          </td><td>None               </td></tr>\n",
       "\t<tr><td>T7DET1M83P</td><td>Sozio</td><td>2024-07-16 08:07:08</td><td>finished</td><td>participants</td><td> 9</td><td> 9</td><td>18</td><td>11</td><td>0.51</td><td>...</td><td>NA</td><td>NA</td><td>NA</td><td>NA</td><td>NA</td><td>NA</td><td>NA</td><td>Retired      </td><td>Seated Work   </td><td>Sport              </td></tr>\n",
       "\t<tr><td>TL5FD2ZDNR</td><td>Sozio</td><td>2024-07-16 11:16:07</td><td>finished</td><td>participants</td><td> 9</td><td> 9</td><td> 9</td><td> 1</td><td>0.78</td><td>...</td><td>NA</td><td>NA</td><td>NA</td><td>NA</td><td>NA</td><td>NA</td><td>NA</td><td>Civil Servant</td><td>Children (0-6)</td><td>None               </td></tr>\n",
       "\t<tr><td>QAW8A947WE</td><td>Int_0</td><td>2024-07-16 16:36:53</td><td>finished</td><td>participants</td><td> 5</td><td> 5</td><td> 0</td><td> 0</td><td>0.89</td><td>...</td><td>NA</td><td> 6</td><td> 9</td><td> 6</td><td> 7</td><td>NA</td><td>NA</td><td>NA           </td><td>None          </td><td>None               </td></tr>\n",
       "</tbody>\n",
       "</table>\n"
      ],
      "text/latex": [
       "A tibble: 6 x 64\n",
       "\\begin{tabular}{lllllllllllllllllllll}\n",
       " Serial\\_Nr & Quest\\_Nr & time\\_started & questions\\_ended & viewer & where\\_did\\_the\\_viewer\\_ended & where\\_did\\_the\\_participant\\_ended & proportion\\_missing\\_answers & proportion\\_missing\\_answers\\_weighted & answering\\_speed & ... & who5\\_5 & pre\\_mood & pre\\_emotions & post\\_mood & post\\_emotions & aroma\\_received & aroma\\_tested & occupation & stressors & relaxation\\\\\n",
       " <chr> & <chr> & <dttm> & <chr> & <chr> & <dbl> & <dbl> & <dbl> & <dbl> & <dbl> & ... & <dbl> & <dbl> & <dbl> & <dbl> & <dbl> & <dbl> & <dbl> & <chr> & <chr> & <chr>\\\\\n",
       "\\hline\n",
       "\t LQC2G9NUZM & Sozio & 2024-07-14 21:25:50 & finished & participants &  9 &  9 &  9 &  1 & 0.31 & ... & NA & NA & NA & NA & NA & NA & NA & Employee      & Seated Work    & Sport              \\\\\n",
       "\t QAW8A947WE & Sozio & 2024-07-16 07:48:39 & finished & participants &  9 &  9 &  9 &  1 & 0.86 & ... & NA & NA & NA & NA & NA & NA & NA & Self-Employed & Weekend Work   & Breathing Exercises\\\\\n",
       "\t QAW8A947WE & V0    & 2024-07-16 07:51:46 & finished & participants & 13 & 13 &  0 &  0 & 1.20 & ... &  6 & NA & NA & NA & NA & NA & NA & NA            & None           & None               \\\\\n",
       "\t T7DET1M83P & Sozio & 2024-07-16 08:07:08 & finished & participants &  9 &  9 & 18 & 11 & 0.51 & ... & NA & NA & NA & NA & NA & NA & NA & Retired       & Seated Work    & Sport              \\\\\n",
       "\t TL5FD2ZDNR & Sozio & 2024-07-16 11:16:07 & finished & participants &  9 &  9 &  9 &  1 & 0.78 & ... & NA & NA & NA & NA & NA & NA & NA & Civil Servant & Children (0-6) & None               \\\\\n",
       "\t QAW8A947WE & Int\\_0 & 2024-07-16 16:36:53 & finished & participants &  5 &  5 &  0 &  0 & 0.89 & ... & NA &  6 &  9 &  6 &  7 & NA & NA & NA            & None           & None               \\\\\n",
       "\\end{tabular}\n"
      ],
      "text/markdown": [
       "\n",
       "A tibble: 6 x 64\n",
       "\n",
       "| Serial_Nr &lt;chr&gt; | Quest_Nr &lt;chr&gt; | time_started &lt;dttm&gt; | questions_ended &lt;chr&gt; | viewer &lt;chr&gt; | where_did_the_viewer_ended &lt;dbl&gt; | where_did_the_participant_ended &lt;dbl&gt; | proportion_missing_answers &lt;dbl&gt; | proportion_missing_answers_weighted &lt;dbl&gt; | answering_speed &lt;dbl&gt; | ... ... | who5_5 &lt;dbl&gt; | pre_mood &lt;dbl&gt; | pre_emotions &lt;dbl&gt; | post_mood &lt;dbl&gt; | post_emotions &lt;dbl&gt; | aroma_received &lt;dbl&gt; | aroma_tested &lt;dbl&gt; | occupation &lt;chr&gt; | stressors &lt;chr&gt; | relaxation &lt;chr&gt; |\n",
       "|---|---|---|---|---|---|---|---|---|---|---|---|---|---|---|---|---|---|---|---|---|\n",
       "| LQC2G9NUZM | Sozio | 2024-07-14 21:25:50 | finished | participants |  9 |  9 |  9 |  1 | 0.31 | ... | NA | NA | NA | NA | NA | NA | NA | Employee      | Seated Work    | Sport               |\n",
       "| QAW8A947WE | Sozio | 2024-07-16 07:48:39 | finished | participants |  9 |  9 |  9 |  1 | 0.86 | ... | NA | NA | NA | NA | NA | NA | NA | Self-Employed | Weekend Work   | Breathing Exercises |\n",
       "| QAW8A947WE | V0    | 2024-07-16 07:51:46 | finished | participants | 13 | 13 |  0 |  0 | 1.20 | ... |  6 | NA | NA | NA | NA | NA | NA | NA            | None           | None                |\n",
       "| T7DET1M83P | Sozio | 2024-07-16 08:07:08 | finished | participants |  9 |  9 | 18 | 11 | 0.51 | ... | NA | NA | NA | NA | NA | NA | NA | Retired       | Seated Work    | Sport               |\n",
       "| TL5FD2ZDNR | Sozio | 2024-07-16 11:16:07 | finished | participants |  9 |  9 |  9 |  1 | 0.78 | ... | NA | NA | NA | NA | NA | NA | NA | Civil Servant | Children (0-6) | None                |\n",
       "| QAW8A947WE | Int_0 | 2024-07-16 16:36:53 | finished | participants |  5 |  5 |  0 |  0 | 0.89 | ... | NA |  6 |  9 |  6 |  7 | NA | NA | NA            | None           | None                |\n",
       "\n"
      ],
      "text/plain": [
       "  Serial_Nr  Quest_Nr time_started        questions_ended viewer      \n",
       "1 LQC2G9NUZM Sozio    2024-07-14 21:25:50 finished        participants\n",
       "2 QAW8A947WE Sozio    2024-07-16 07:48:39 finished        participants\n",
       "3 QAW8A947WE V0       2024-07-16 07:51:46 finished        participants\n",
       "4 T7DET1M83P Sozio    2024-07-16 08:07:08 finished        participants\n",
       "5 TL5FD2ZDNR Sozio    2024-07-16 11:16:07 finished        participants\n",
       "6 QAW8A947WE Int_0    2024-07-16 16:36:53 finished        participants\n",
       "  where_did_the_viewer_ended where_did_the_participant_ended\n",
       "1  9                          9                             \n",
       "2  9                          9                             \n",
       "3 13                         13                             \n",
       "4  9                          9                             \n",
       "5  9                          9                             \n",
       "6  5                          5                             \n",
       "  proportion_missing_answers proportion_missing_answers_weighted\n",
       "1  9                          1                                 \n",
       "2  9                          1                                 \n",
       "3  0                          0                                 \n",
       "4 18                         11                                 \n",
       "5  9                          1                                 \n",
       "6  0                          0                                 \n",
       "  answering_speed ... who5_5 pre_mood pre_emotions post_mood post_emotions\n",
       "1 0.31            ... NA     NA       NA           NA        NA           \n",
       "2 0.86            ... NA     NA       NA           NA        NA           \n",
       "3 1.20            ...  6     NA       NA           NA        NA           \n",
       "4 0.51            ... NA     NA       NA           NA        NA           \n",
       "5 0.78            ... NA     NA       NA           NA        NA           \n",
       "6 0.89            ... NA      6        9            6         7           \n",
       "  aroma_received aroma_tested occupation    stressors      relaxation         \n",
       "1 NA             NA           Employee      Seated Work    Sport              \n",
       "2 NA             NA           Self-Employed Weekend Work   Breathing Exercises\n",
       "3 NA             NA           NA            None           None               \n",
       "4 NA             NA           Retired       Seated Work    Sport              \n",
       "5 NA             NA           Civil Servant Children (0-6) None               \n",
       "6 NA             NA           NA            None           None               "
      ]
     },
     "metadata": {},
     "output_type": "display_data"
    }
   ],
   "source": [
    "# Display the first rows and columns\n",
    "head(mind)  # Shows the first 6 rows"
   ]
  },
  {
   "cell_type": "code",
   "execution_count": 8,
   "metadata": {
    "vscode": {
     "languageId": "r"
    }
   },
   "outputs": [
    {
     "name": "stdout",
     "output_type": "stream",
     "text": [
      "Dataset dimensions: 6828 rows and 64 columns\n"
     ]
    }
   ],
   "source": [
    "# Get and print the dimensions of the data frame (rows x columns)\n",
    "cat(\"Dataset dimensions:\", dim(mind)[1], \"rows and\", dim(mind)[2], \"columns\\n\")"
   ]
  },
  {
   "cell_type": "code",
   "execution_count": 9,
   "metadata": {
    "vscode": {
     "languageId": "r"
    }
   },
   "outputs": [
    {
     "name": "stdout",
     "output_type": "stream",
     "text": [
      "spc_tbl_ [6,828 x 64] (S3: spec_tbl_df/tbl_df/tbl/data.frame)\n",
      " $ Serial_Nr                          : chr [1:6828] \"LQC2G9NUZM\" \"QAW8A947WE\" \"QAW8A947WE\" \"T7DET1M83P\" ...\n",
      " $ Quest_Nr                           : chr [1:6828] \"Sozio\" \"Sozio\" \"V0\" \"Sozio\" ...\n",
      " $ time_started                       : POSIXct[1:6828], format: \"2024-07-14 21:25:50\" \"2024-07-16 07:48:39\" ...\n",
      " $ questions_ended                    : chr [1:6828] \"finished\" \"finished\" \"finished\" \"finished\" ...\n",
      " $ viewer                             : chr [1:6828] \"participants\" \"participants\" \"participants\" \"participants\" ...\n",
      " $ where_did_the_viewer_ended         : num [1:6828] 9 9 13 9 9 5 13 5 3 5 ...\n",
      " $ where_did_the_participant_ended    : num [1:6828] 9 9 13 9 9 5 13 5 3 5 ...\n",
      " $ proportion_missing_answers         : num [1:6828] 9 9 0 18 9 0 0 0 0 0 ...\n",
      " $ proportion_missing_answers_weighted: num [1:6828] 1 1 0 11 1 0 0 0 0 0 ...\n",
      " $ answering_speed                    : num [1:6828] 0.31 0.86 1.2 0.51 0.78 0.89 0.49 0.39 0.61 1.35 ...\n",
      " $ my_group                           : chr [1:6828] \"AROMA+HYPNO\" \"KON\" NA \"AROMA\" ...\n",
      " $ gender                             : chr [1:6828] \"male\" \"female\" NA \"female\" ...\n",
      " $ age_group                          : chr [1:6828] \"26-35\" \"56-65\" NA \"56-65\" ...\n",
      " $ education                          : chr [1:6828] \"High school\" \"High school\" NA \"High school\" ...\n",
      " $ educational_degree                 : chr [1:6828] \"university degree\" \"university degree\" NA \"university degree\" ...\n",
      " $ income                             : chr [1:6828] \"3000 and more\" \"I do not want to answer\" NA \"2000-2999\" ...\n",
      " $ mdbf_l1_1                          : num [1:6828] NA NA 3 NA NA NA 3 NA NA NA ...\n",
      " $ mdbf_l1_2                          : num [1:6828] NA NA 2 NA NA NA 2 NA NA NA ...\n",
      " $ mdbf_l1_3                          : num [1:6828] NA NA 5 NA NA NA 3 NA NA NA ...\n",
      " $ mdbf_l1_4                          : num [1:6828] NA NA 4 NA NA NA 3 NA NA NA ...\n",
      " $ mdbf_l1_5                          : num [1:6828] NA NA 4 NA NA NA 4 NA NA NA ...\n",
      " $ mdbf_l1_6                          : num [1:6828] NA NA 2 NA NA NA 2 NA NA NA ...\n",
      " $ mdbf_l1_7                          : num [1:6828] NA NA 4 NA NA NA 4 NA NA NA ...\n",
      " $ mdbf_l1_8                          : num [1:6828] NA NA 2 NA NA NA 2 NA NA NA ...\n",
      " $ mdbf_l2_9                          : num [1:6828] NA NA 4 NA NA NA 3 NA NA NA ...\n",
      " $ mdbf_l2_10                         : num [1:6828] NA NA 2 NA NA NA 3 NA NA NA ...\n",
      " $ mdbf_l2_11                         : num [1:6828] NA NA 3 NA NA NA 3 NA NA NA ...\n",
      " $ mdbf_l2_12                         : num [1:6828] NA NA 2 NA NA NA 2 NA NA NA ...\n",
      " $ mdbf_l2_13                         : num [1:6828] NA NA 5 NA NA NA 3 NA NA NA ...\n",
      " $ mdbf_l2_14                         : num [1:6828] NA NA 2 NA NA NA 3 NA NA NA ...\n",
      " $ mdbf_l2_15                         : num [1:6828] NA NA 1 NA NA NA 2 NA NA NA ...\n",
      " $ mdbf_l2_16                         : num [1:6828] NA NA 4 NA NA NA 3 NA NA NA ...\n",
      " $ mdbf_l3_17                         : num [1:6828] NA NA 2 NA NA NA 3 NA NA NA ...\n",
      " $ mdbf_l3_18                         : num [1:6828] NA NA 3 NA NA NA 3 NA NA NA ...\n",
      " $ mdbf_l3_19                         : num [1:6828] NA NA 4 NA NA NA 4 NA NA NA ...\n",
      " $ mdbf_l3_20                         : num [1:6828] NA NA 2 NA NA NA 2 NA NA NA ...\n",
      " $ mdbf_l3_21                         : num [1:6828] NA NA 2 NA NA NA 3 NA NA NA ...\n",
      " $ mdbf_l3_22                         : num [1:6828] NA NA 5 NA NA NA 4 NA NA NA ...\n",
      " $ mdbf_l3_23                         : num [1:6828] NA NA 4 NA NA NA 3 NA NA NA ...\n",
      " $ mdbf_l3_24                         : num [1:6828] NA NA 2 NA NA NA 2 NA NA NA ...\n",
      " $ pss1                               : num [1:6828] NA NA 4 NA NA NA 2 NA NA NA ...\n",
      " $ pss2                               : num [1:6828] NA NA 4 NA NA NA 3 NA NA NA ...\n",
      " $ pss3                               : num [1:6828] NA NA 4 NA NA NA 4 NA NA NA ...\n",
      " $ pss4                               : num [1:6828] NA NA 2 NA NA NA 3 NA NA NA ...\n",
      " $ pss5                               : num [1:6828] NA NA 2 NA NA NA 2 NA NA NA ...\n",
      " $ pss6                               : num [1:6828] NA NA 4 NA NA NA 3 NA NA NA ...\n",
      " $ pss7                               : num [1:6828] NA NA 2 NA NA NA 3 NA NA NA ...\n",
      " $ pss8                               : num [1:6828] NA NA 2 NA NA NA 3 NA NA NA ...\n",
      " $ pss9                               : num [1:6828] NA NA 4 NA NA NA 3 NA NA NA ...\n",
      " $ pss10                              : num [1:6828] NA NA 4 NA NA NA 3 NA NA NA ...\n",
      " $ who5_1                             : num [1:6828] NA NA 5 NA NA NA 5 NA NA NA ...\n",
      " $ who5_2                             : num [1:6828] NA NA 5 NA NA NA 5 NA NA NA ...\n",
      " $ who5_3                             : num [1:6828] NA NA 5 NA NA NA 5 NA NA NA ...\n",
      " $ who5_4                             : num [1:6828] NA NA 5 NA NA NA 5 NA NA NA ...\n",
      " $ who5_5                             : num [1:6828] NA NA 6 NA NA NA 6 NA NA NA ...\n",
      " $ pre_mood                           : num [1:6828] NA NA NA NA NA 6 NA 7 8 9 ...\n",
      " $ pre_emotions                       : num [1:6828] NA NA NA NA NA 9 NA 5 2 2 ...\n",
      " $ post_mood                          : num [1:6828] NA NA NA NA NA 6 NA 9 NA 9 ...\n",
      " $ post_emotions                      : num [1:6828] NA NA NA NA NA 7 NA 3 NA 3 ...\n",
      " $ aroma_received                     : num [1:6828] NA NA NA NA NA NA NA NA NA NA ...\n",
      " $ aroma_tested                       : num [1:6828] NA NA NA NA NA NA NA NA NA NA ...\n",
      " $ occupation                         : chr [1:6828] \"Employee\" \"Self-Employed\" NA \"Retired\" ...\n",
      " $ stressors                          : chr [1:6828] \"Seated Work\" \"Weekend Work\" \"None\" \"Seated Work\" ...\n",
      " $ relaxation                         : chr [1:6828] \"Sport\" \"Breathing Exercises\" \"None\" \"Sport\" ...\n",
      " - attr(*, \"spec\")=\n",
      "  .. cols(\n",
      "  ..   Serial_Nr = \u001b[31mcol_character()\u001b[39m,\n",
      "  ..   Quest_Nr = \u001b[31mcol_character()\u001b[39m,\n",
      "  ..   time_started = \u001b[34mcol_datetime(format = \"\")\u001b[39m,\n",
      "  ..   questions_ended = \u001b[31mcol_character()\u001b[39m,\n",
      "  ..   viewer = \u001b[31mcol_character()\u001b[39m,\n",
      "  ..   where_did_the_viewer_ended = \u001b[32mcol_double()\u001b[39m,\n",
      "  ..   where_did_the_participant_ended = \u001b[32mcol_double()\u001b[39m,\n",
      "  ..   proportion_missing_answers = \u001b[32mcol_double()\u001b[39m,\n",
      "  ..   proportion_missing_answers_weighted = \u001b[32mcol_double()\u001b[39m,\n",
      "  ..   answering_speed = \u001b[32mcol_double()\u001b[39m,\n",
      "  ..   my_group = \u001b[31mcol_character()\u001b[39m,\n",
      "  ..   gender = \u001b[31mcol_character()\u001b[39m,\n",
      "  ..   age_group = \u001b[31mcol_character()\u001b[39m,\n",
      "  ..   education = \u001b[31mcol_character()\u001b[39m,\n",
      "  ..   educational_degree = \u001b[31mcol_character()\u001b[39m,\n",
      "  ..   income = \u001b[31mcol_character()\u001b[39m,\n",
      "  ..   mdbf_l1_1 = \u001b[32mcol_double()\u001b[39m,\n",
      "  ..   mdbf_l1_2 = \u001b[32mcol_double()\u001b[39m,\n",
      "  ..   mdbf_l1_3 = \u001b[32mcol_double()\u001b[39m,\n",
      "  ..   mdbf_l1_4 = \u001b[32mcol_double()\u001b[39m,\n",
      "  ..   mdbf_l1_5 = \u001b[32mcol_double()\u001b[39m,\n",
      "  ..   mdbf_l1_6 = \u001b[32mcol_double()\u001b[39m,\n",
      "  ..   mdbf_l1_7 = \u001b[32mcol_double()\u001b[39m,\n",
      "  ..   mdbf_l1_8 = \u001b[32mcol_double()\u001b[39m,\n",
      "  ..   mdbf_l2_9 = \u001b[32mcol_double()\u001b[39m,\n",
      "  ..   mdbf_l2_10 = \u001b[32mcol_double()\u001b[39m,\n",
      "  ..   mdbf_l2_11 = \u001b[32mcol_double()\u001b[39m,\n",
      "  ..   mdbf_l2_12 = \u001b[32mcol_double()\u001b[39m,\n",
      "  ..   mdbf_l2_13 = \u001b[32mcol_double()\u001b[39m,\n",
      "  ..   mdbf_l2_14 = \u001b[32mcol_double()\u001b[39m,\n",
      "  ..   mdbf_l2_15 = \u001b[32mcol_double()\u001b[39m,\n",
      "  ..   mdbf_l2_16 = \u001b[32mcol_double()\u001b[39m,\n",
      "  ..   mdbf_l3_17 = \u001b[32mcol_double()\u001b[39m,\n",
      "  ..   mdbf_l3_18 = \u001b[32mcol_double()\u001b[39m,\n",
      "  ..   mdbf_l3_19 = \u001b[32mcol_double()\u001b[39m,\n",
      "  ..   mdbf_l3_20 = \u001b[32mcol_double()\u001b[39m,\n",
      "  ..   mdbf_l3_21 = \u001b[32mcol_double()\u001b[39m,\n",
      "  ..   mdbf_l3_22 = \u001b[32mcol_double()\u001b[39m,\n",
      "  ..   mdbf_l3_23 = \u001b[32mcol_double()\u001b[39m,\n",
      "  ..   mdbf_l3_24 = \u001b[32mcol_double()\u001b[39m,\n",
      "  ..   pss1 = \u001b[32mcol_double()\u001b[39m,\n",
      "  ..   pss2 = \u001b[32mcol_double()\u001b[39m,\n",
      "  ..   pss3 = \u001b[32mcol_double()\u001b[39m,\n",
      "  ..   pss4 = \u001b[32mcol_double()\u001b[39m,\n",
      "  ..   pss5 = \u001b[32mcol_double()\u001b[39m,\n",
      "  ..   pss6 = \u001b[32mcol_double()\u001b[39m,\n",
      "  ..   pss7 = \u001b[32mcol_double()\u001b[39m,\n",
      "  ..   pss8 = \u001b[32mcol_double()\u001b[39m,\n",
      "  ..   pss9 = \u001b[32mcol_double()\u001b[39m,\n",
      "  ..   pss10 = \u001b[32mcol_double()\u001b[39m,\n",
      "  ..   who5_1 = \u001b[32mcol_double()\u001b[39m,\n",
      "  ..   who5_2 = \u001b[32mcol_double()\u001b[39m,\n",
      "  ..   who5_3 = \u001b[32mcol_double()\u001b[39m,\n",
      "  ..   who5_4 = \u001b[32mcol_double()\u001b[39m,\n",
      "  ..   who5_5 = \u001b[32mcol_double()\u001b[39m,\n",
      "  ..   pre_mood = \u001b[32mcol_double()\u001b[39m,\n",
      "  ..   pre_emotions = \u001b[32mcol_double()\u001b[39m,\n",
      "  ..   post_mood = \u001b[32mcol_double()\u001b[39m,\n",
      "  ..   post_emotions = \u001b[32mcol_double()\u001b[39m,\n",
      "  ..   aroma_received = \u001b[32mcol_double()\u001b[39m,\n",
      "  ..   aroma_tested = \u001b[32mcol_double()\u001b[39m,\n",
      "  ..   occupation = \u001b[31mcol_character()\u001b[39m,\n",
      "  ..   stressors = \u001b[31mcol_character()\u001b[39m,\n",
      "  ..   relaxation = \u001b[31mcol_character()\u001b[39m\n",
      "  .. )\n",
      " - attr(*, \"problems\")=<externalptr> \n"
     ]
    }
   ],
   "source": [
    "# Show the precise structure of the data frame\n",
    "str(mind)"
   ]
  },
  {
   "cell_type": "code",
   "execution_count": 10,
   "metadata": {
    "vscode": {
     "languageId": "r"
    }
   },
   "outputs": [],
   "source": [
    "# Define columns that should be factors\n",
    "factor_columns <- c(\"occupation\", \"stressors\", \"relaxation\", \"Serial_Nr\", \"Quest_Nr\", \n",
    "                    \"questions_ended\", \"viewer\", \"my_group\", \"gender\", \"age_group\", \n",
    "                    \"education\", \"educational_degree\", \"income\")\n"
   ]
  },
  {
   "cell_type": "code",
   "execution_count": 11,
   "metadata": {
    "vscode": {
     "languageId": "r"
    }
   },
   "outputs": [],
   "source": [
    "# Convert selected columns to factors\n",
    "mind[factor_columns] <- lapply(mind[factor_columns], as.factor)"
   ]
  },
  {
   "cell_type": "code",
   "execution_count": 12,
   "metadata": {
    "vscode": {
     "languageId": "r"
    }
   },
   "outputs": [
    {
     "name": "stdout",
     "output_type": "stream",
     "text": [
      "Number of duplicate rows: 0 \n"
     ]
    }
   ],
   "source": [
    "# Check for duplicate rows and print their number\n",
    "num_duplicates <- sum(duplicated(mind))\n",
    "cat(\"Number of duplicate rows:\", num_duplicates, \"\\n\")"
   ]
  },
  {
   "cell_type": "code",
   "execution_count": 13,
   "metadata": {
    "vscode": {
     "languageId": "r"
    }
   },
   "outputs": [
    {
     "data": {
      "text/plain": [
       "      Serial_Nr       Quest_Nr     time_started                   \n",
       " M9D15QZTHW:  24   Sozio  : 518   Min.   :2024-07-14 21:25:50.00  \n",
       " 1FEZNADLLD:  23   Int_0  : 504   1st Qu.:2024-08-16 13:27:26.25  \n",
       " 1YE5YTF21B:  23   V0     : 485   Median :2024-08-29 10:03:14.00  \n",
       " 4KAGBXAS9G:  23   V1     : 392   Mean   :2024-09-01 22:32:07.25  \n",
       " 5RBHK9PVH2:  23   V2     : 383   3rd Qu.:2024-09-13 10:34:03.50  \n",
       " 6ZZGPWBXRD:  23   Int_3  : 313   Max.   :2024-12-18 15:17:56.00  \n",
       " (Other)   :6689   (Other):4233                                   \n",
       "     questions_ended          viewer     where_did_the_viewer_ended\n",
       " finished    :6559   participants:6828   Min.   : 0.000            \n",
       " not_finished: 269                       1st Qu.: 5.000            \n",
       "                                         Median : 5.000            \n",
       "                                         Mean   : 6.212            \n",
       "                                         3rd Qu.: 8.000            \n",
       "                                         Max.   :13.000            \n",
       "                                                                   \n",
       " where_did_the_participant_ended proportion_missing_answers\n",
       " Min.   : 0.000                  Min.   :  0.0000          \n",
       " 1st Qu.: 5.000                  1st Qu.:  0.0000          \n",
       " Median : 5.000                  Median :  0.0000          \n",
       " Mean   : 6.234                  Mean   :  0.7241          \n",
       " 3rd Qu.: 8.000                  3rd Qu.:  0.0000          \n",
       " Max.   :13.000                  Max.   :100.0000          \n",
       "                                 NA's   :54                \n",
       " proportion_missing_answers_weighted answering_speed        my_group   \n",
       " Min.   :  0.0000                    Min.   :0.000   ADMIN      :   2  \n",
       " 1st Qu.:  0.0000                    1st Qu.:0.770   AROMA      :1860  \n",
       " Median :  0.0000                    Median :1.020   AROMA+HYPNO:1660  \n",
       " Mean   :  0.2005                    Mean   :1.091   HYPNO      :1126  \n",
       " 3rd Qu.:  0.0000                    3rd Qu.:1.340   KON        :1222  \n",
       " Max.   :100.0000                    Max.   :3.000   NA's       : 958  \n",
       " NA's   :54                          NA's   :38                        \n",
       "    gender     age_group                      education   \n",
       " female: 426   18-25:  59   High school            : 398  \n",
       " male  :  82   26-35: 170   Higher secondary school:  90  \n",
       " NA's  :6320   36-45: 116   Lower secondary school :  10  \n",
       "               46-55:  85   others                 :   9  \n",
       "               56-65:  78   pupil                  :   1  \n",
       "               NA's :6320   NA's                   :6320  \n",
       "                                                          \n",
       "         educational_degree            income       mdbf_l1_1    \n",
       " apprenticeship   : 172     2000-2999     : 179   Min.   :1.000  \n",
       " no degree        :  33     3000 and more : 137   1st Qu.:3.000  \n",
       " other degree     :  21     1500-1999     :  57   Median :4.000  \n",
       " university degree: 282     1000-1499     :  50   Mean   :3.467  \n",
       " NA's             :6320     less than 1000:  31   3rd Qu.:4.000  \n",
       "                            (Other)       :  48   Max.   :5.000  \n",
       "                            NA's          :6326   NA's   :5395   \n",
       "   mdbf_l1_2       mdbf_l1_3       mdbf_l1_4       mdbf_l1_5    \n",
       " Min.   :1.000   Min.   :1.000   Min.   :1.000   Min.   :1.000  \n",
       " 1st Qu.:2.000   1st Qu.:2.000   1st Qu.:2.000   1st Qu.:2.000  \n",
       " Median :3.000   Median :3.000   Median :2.000   Median :3.000  \n",
       " Mean   :2.983   Mean   :2.631   Mean   :2.222   Mean   :2.843  \n",
       " 3rd Qu.:4.000   3rd Qu.:3.000   3rd Qu.:3.000   3rd Qu.:4.000  \n",
       " Max.   :5.000   Max.   :5.000   Max.   :5.000   Max.   :5.000  \n",
       " NA's   :5395    NA's   :5395    NA's   :5395    NA's   :5395   \n",
       "   mdbf_l1_6       mdbf_l1_7       mdbf_l1_8       mdbf_l2_9       mdbf_l2_10  \n",
       " Min.   :1.000   Min.   :1.000   Min.   :1.000   Min.   :1.000   Min.   :1.00  \n",
       " 1st Qu.:3.000   1st Qu.:2.000   1st Qu.:3.000   1st Qu.:2.000   1st Qu.:3.00  \n",
       " Median :3.000   Median :3.000   Median :4.000   Median :3.000   Median :3.00  \n",
       " Mean   :3.166   Mean   :3.119   Mean   :3.544   Mean   :2.664   Mean   :3.17  \n",
       " 3rd Qu.:4.000   3rd Qu.:4.000   3rd Qu.:4.000   3rd Qu.:3.000   3rd Qu.:4.00  \n",
       " Max.   :5.000   Max.   :5.000   Max.   :5.000   Max.   :5.000   Max.   :5.00  \n",
       " NA's   :5395    NA's   :5395    NA's   :5395    NA's   :5396    NA's   :5396  \n",
       "   mdbf_l2_11      mdbf_l2_12      mdbf_l2_13      mdbf_l2_14   \n",
       " Min.   :1.000   Min.   :1.000   Min.   :1.000   Min.   :1.000  \n",
       " 1st Qu.:2.000   1st Qu.:2.000   1st Qu.:2.000   1st Qu.:3.000  \n",
       " Median :2.000   Median :3.000   Median :3.000   Median :3.000  \n",
       " Mean   :2.308   Mean   :3.126   Mean   :2.892   Mean   :3.441  \n",
       " 3rd Qu.:3.000   3rd Qu.:4.000   3rd Qu.:4.000   3rd Qu.:4.000  \n",
       " Max.   :5.000   Max.   :5.000   Max.   :5.000   Max.   :5.000  \n",
       " NA's   :5396    NA's   :5396    NA's   :5396    NA's   :5396   \n",
       "   mdbf_l2_15      mdbf_l2_16      mdbf_l3_17     mdbf_l3_18      mdbf_l3_19   \n",
       " Min.   :1.000   Min.   :1.000   Min.   :1.00   Min.   :1.000   Min.   :1.000  \n",
       " 1st Qu.:3.000   1st Qu.:1.000   1st Qu.:2.00   1st Qu.:2.000   1st Qu.:2.000  \n",
       " Median :3.000   Median :2.000   Median :3.00   Median :2.000   Median :3.000  \n",
       " Mean   :3.169   Mean   :2.096   Mean   :3.09   Mean   :2.399   Mean   :2.932  \n",
       " 3rd Qu.:4.000   3rd Qu.:3.000   3rd Qu.:4.00   3rd Qu.:3.000   3rd Qu.:4.000  \n",
       " Max.   :5.000   Max.   :5.000   Max.   :5.00   Max.   :5.000   Max.   :5.000  \n",
       " NA's   :5396    NA's   :5396    NA's   :5396   NA's   :5396    NA's   :5396   \n",
       "   mdbf_l3_20      mdbf_l3_21      mdbf_l3_22      mdbf_l3_23   \n",
       " Min.   :1.000   Min.   :1.000   Min.   :1.000   Min.   :1.000  \n",
       " 1st Qu.:2.000   1st Qu.:3.000   1st Qu.:2.000   1st Qu.:2.000  \n",
       " Median :3.000   Median :3.000   Median :2.000   Median :3.000  \n",
       " Mean   :2.925   Mean   :3.436   Mean   :2.503   Mean   :2.727  \n",
       " 3rd Qu.:4.000   3rd Qu.:4.000   3rd Qu.:3.000   3rd Qu.:4.000  \n",
       " Max.   :5.000   Max.   :5.000   Max.   :5.000   Max.   :5.000  \n",
       " NA's   :5396    NA's   :5396    NA's   :5396    NA's   :5396   \n",
       "   mdbf_l3_24         pss1            pss2            pss3           pss4      \n",
       " Min.   :1.000   Min.   :1.000   Min.   :1.000   Min.   :1.00   Min.   :1.000  \n",
       " 1st Qu.:3.000   1st Qu.:2.000   1st Qu.:2.000   1st Qu.:3.00   1st Qu.:3.000  \n",
       " Median :3.000   Median :3.000   Median :3.000   Median :3.00   Median :4.000  \n",
       " Mean   :3.234   Mean   :2.653   Mean   :2.788   Mean   :3.22   Mean   :3.534  \n",
       " 3rd Qu.:4.000   3rd Qu.:3.000   3rd Qu.:3.000   3rd Qu.:4.00   3rd Qu.:4.000  \n",
       " Max.   :5.000   Max.   :5.000   Max.   :5.000   Max.   :5.00   Max.   :5.000  \n",
       " NA's   :5396    NA's   :5398    NA's   :5398    NA's   :5398   NA's   :5398   \n",
       "      pss5           pss6            pss7            pss8            pss9      \n",
       " Min.   :1.00   Min.   :1.000   Min.   :1.000   Min.   :1.000   Min.   :1.000  \n",
       " 1st Qu.:3.00   1st Qu.:2.000   1st Qu.:3.000   1st Qu.:3.000   1st Qu.:2.000  \n",
       " Median :3.00   Median :3.000   Median :3.000   Median :3.000   Median :3.000  \n",
       " Mean   :3.34   Mean   :2.766   Mean   :3.408   Mean   :3.343   Mean   :2.772  \n",
       " 3rd Qu.:4.00   3rd Qu.:3.000   3rd Qu.:4.000   3rd Qu.:4.000   3rd Qu.:3.000  \n",
       " Max.   :5.00   Max.   :5.000   Max.   :5.000   Max.   :5.000   Max.   :5.000  \n",
       " NA's   :5398   NA's   :5398    NA's   :5398    NA's   :5398    NA's   :5398   \n",
       "     pss10           who5_1          who5_2          who5_3     \n",
       " Min.   :1.000   Min.   :1.000   Min.   :1.000   Min.   :1.000  \n",
       " 1st Qu.:1.000   1st Qu.:2.000   1st Qu.:2.000   1st Qu.:3.000  \n",
       " Median :2.000   Median :3.000   Median :3.000   Median :3.000  \n",
       " Mean   :2.247   Mean   :2.999   Mean   :3.395   Mean   :3.519  \n",
       " 3rd Qu.:3.000   3rd Qu.:4.000   3rd Qu.:4.000   3rd Qu.:5.000  \n",
       " Max.   :5.000   Max.   :6.000   Max.   :6.000   Max.   :6.000  \n",
       " NA's   :5398    NA's   :5399    NA's   :5399    NA's   :5399   \n",
       "     who5_4          who5_5         pre_mood       pre_emotions   \n",
       " Min.   :1.000   Min.   :1.000   Min.   :-9.000   Min.   :-9.000  \n",
       " 1st Qu.:3.000   1st Qu.:2.000   1st Qu.: 6.000   1st Qu.: 3.000  \n",
       " Median :4.000   Median :3.000   Median : 8.000   Median : 4.000  \n",
       " Mean   :3.913   Mean   :3.071   Mean   : 7.484   Mean   : 4.732  \n",
       " 3rd Qu.:5.000   3rd Qu.:4.000   3rd Qu.: 9.000   3rd Qu.: 6.000  \n",
       " Max.   :6.000   Max.   :6.000   Max.   :11.000   Max.   :11.000  \n",
       " NA's   :5399    NA's   :5399    NA's   :2006     NA's   :2006    \n",
       "   post_mood     post_emotions   aroma_received    aroma_tested  \n",
       " Min.   :-9.00   Min.   :-9.00   Min.   :-9.000   Min.   :1.000  \n",
       " 1st Qu.: 7.00   1st Qu.: 2.00   1st Qu.: 1.000   1st Qu.:1.000  \n",
       " Median : 9.00   Median : 3.00   Median : 1.000   Median :1.000  \n",
       " Mean   : 8.33   Mean   : 3.48   Mean   : 0.992   Mean   :1.332  \n",
       " 3rd Qu.:10.00   3rd Qu.: 5.00   3rd Qu.: 1.000   3rd Qu.:2.000  \n",
       " Max.   :11.00   Max.   :11.00   Max.   : 2.000   Max.   :3.000  \n",
       " NA's   :2139    NA's   :2139    NA's   :6590     NA's   :6599   \n",
       "         occupation               stressors   \n",
       " Employee     : 367   None             :6320  \n",
       " Student      :  63   Seated Work      : 208  \n",
       " Self-Employed:  24   Children (0-6)   :  79  \n",
       " Civil Servant:  20   Shifting Shifts  :  57  \n",
       " Other        :  16   Children (7-13)  :  45  \n",
       " (Other)      :  17   Handicapped Adult:  42  \n",
       " NA's         :6321   (Other)          :  77  \n",
       "                         relaxation  \n",
       " None                         :6434  \n",
       " Sport                        : 128  \n",
       " Yoga                         : 124  \n",
       " Meditation                   :  42  \n",
       " Progressive Muscle Relaxation:  34  \n",
       " Massage                      :  26  \n",
       " (Other)                      :  40  "
      ]
     },
     "metadata": {},
     "output_type": "display_data"
    }
   ],
   "source": [
    "# Summarise the descriptive statistics\n",
    "summary(mind)"
   ]
  },
  {
   "cell_type": "code",
   "execution_count": 16,
   "metadata": {
    "vscode": {
     "languageId": "r"
    }
   },
   "outputs": [
    {
     "name": "stdout",
     "output_type": "stream",
     "text": [
      "Total missing values in dataset: 270981 \n"
     ]
    }
   ],
   "source": [
    "# Overall count of missing values\n",
    "total_missing <- sum(is.na(mind))\n",
    "cat(\"Total missing values in dataset:\", total_missing, \"\\n\")"
   ]
  },
  {
   "cell_type": "markdown",
   "metadata": {},
   "source": [
    "The total number of missing values in the dataset, 270,981 NAs, represents all missing entries across all rows and columns. However, this number alone does not accurately reflect the actual amount of missing data in a meaningful way due to the structure of the dataset. Since each individual (Serial_Nr) appears multiple times in the dataset, corresponding to different assessment time points (Quest_Nr), some variables are only relevant at specific time points. As a result, it is expected that certain variables contain missing values at time points where they were not assessed.\n",
    "Additionally, some variables are designed to be recorded only at baseline or follow-up assessments, meaning that missing values in those columns are not necessarily an indication of data loss but rather a natural consequence of the study design. A simple count of missing values across the dataset does not distinguish between these structural missing values, which are expected, and unexpected missing values, which may indicate non-response or data collection issues."
   ]
  },
  {
   "cell_type": "markdown",
   "metadata": {},
   "source": [
    "# 2-Data Preprocessing\n",
    "[Back to Table of Content](#table-of-content)"
   ]
  },
  {
   "cell_type": "code",
   "execution_count": 41,
   "metadata": {
    "vscode": {
     "languageId": "r"
    }
   },
   "outputs": [],
   "source": [
    "# Calculate MDBF Subscales\n",
    "mind <- mind %>%\n",
    "  mutate(\n",
    "    MDBF_GS = mdbf_l1_1 + mdbf_l1_4 + mdbf_l1_8 + mdbf_l2_11 + mdbf_l2_14 + mdbf_l2_16 + mdbf_l3_18 + mdbf_l3_21,\n",
    "    MDBF_WM = mdbf_l1_2 + mdbf_l1_5 + mdbf_l1_7 + mdbf_l2_10 + mdbf_l2_13 + mdbf_l3_17 + mdbf_l3_20 + mdbf_l3_23,\n",
    "    MDBF_RU = mdbf_l1_3 + mdbf_l1_6 + mdbf_l2_9 + mdbf_l2_12 + mdbf_l2_15 + mdbf_l3_19 + mdbf_l3_22 + mdbf_l3_24\n",
    "  )"
   ]
  },
  {
   "cell_type": "code",
   "execution_count": 42,
   "metadata": {
    "vscode": {
     "languageId": "r"
    }
   },
   "outputs": [],
   "source": [
    "# Calculate MDBF Total Score (Hinz, A., Daig, I., Petrowski, K., & Brähler, E. (2012). \n",
    "# Die stimmung in der deutschen bevölkerung: referenzwerte für den mehrdimensionalen befindlichkeitsfragebogen MDBF. \n",
    "# PPmP-Psychotherapie· Psychosomatik· Medizinische Psychologie, 62(02), 52-57.)\n",
    "mind <- mind %>%\n",
    "  mutate(MDBF = MDBF_GS + MDBF_WM + MDBF_RU)"
   ]
  },
  {
   "cell_type": "code",
   "execution_count": 43,
   "metadata": {
    "vscode": {
     "languageId": "r"
    }
   },
   "outputs": [],
   "source": [
    "# Invert PSS items (assuming a scale from 1-5, adjust if necessary)\n",
    "mind <- mind %>%\n",
    "  mutate(\n",
    "    pss4_inv = 6 - pss4,\n",
    "    pss5_inv = 6 - pss5,\n",
    "    pss7_inv = 6 - pss7,\n",
    "    pss8_inv = 6 - pss8\n",
    "  )"
   ]
  },
  {
   "cell_type": "code",
   "execution_count": 44,
   "metadata": {
    "vscode": {
     "languageId": "r"
    }
   },
   "outputs": [],
   "source": [
    "# Calculate PSS Subscales\n",
    "mind <- mind %>%\n",
    "  mutate(\n",
    "    pss_helplessness = pss1 + pss2 + pss3 + pss6 + pss9 + pss10,\n",
    "    pss_self_efficacy = pss4_inv + pss5_inv + pss7_inv + pss8_inv,\n",
    "    pss_total = pss_helplessness + pss_self_efficacy\n",
    "  )"
   ]
  },
  {
   "cell_type": "code",
   "execution_count": 45,
   "metadata": {
    "vscode": {
     "languageId": "r"
    }
   },
   "outputs": [],
   "source": [
    "# Calculate WHO-5 Total Score\n",
    "mind <- mind %>%\n",
    "  mutate(who5_total = who5_1 + who5_2 + who5_3 + who5_4 + who5_5)\n"
   ]
  },
  {
   "cell_type": "code",
   "execution_count": 47,
   "metadata": {
    "vscode": {
     "languageId": "r"
    }
   },
   "outputs": [],
   "source": [
    "# Remove individual questionnaire items (except for Serial_Nr and Quest_Nr)\n",
    "questionnaire_items <- c(\n",
    "  \"mdbf_l1_1\", \"mdbf_l1_2\", \"mdbf_l1_3\", \"mdbf_l1_4\", \"mdbf_l1_5\", \"mdbf_l1_6\", \"mdbf_l1_7\", \"mdbf_l1_8\",\n",
    "  \"mdbf_l2_9\", \"mdbf_l2_10\", \"mdbf_l2_11\", \"mdbf_l2_12\", \"mdbf_l2_13\", \"mdbf_l2_14\", \"mdbf_l2_15\", \"mdbf_l2_16\",\n",
    "  \"mdbf_l3_17\", \"mdbf_l3_18\", \"mdbf_l3_19\", \"mdbf_l3_20\", \"mdbf_l3_21\", \"mdbf_l3_22\", \"mdbf_l3_23\", \"mdbf_l3_24\",\n",
    "  \"pss1\", \"pss2\", \"pss3\", \"pss4\", \"pss5\", \"pss6\", \"pss7\", \"pss8\", \"pss9\", \"pss10\",\n",
    "  \"who5_1\", \"who5_2\", \"who5_3\", \"who5_4\", \"who5_5\", \n",
    "  \"pss4_inv\", \"pss5_inv\", \"pss7_inv\", \"pss8_inv\"\n",
    ")\n",
    "\n",
    "mind <- mind %>% dplyr::select(-all_of(questionnaire_items))"
   ]
  },
  {
   "cell_type": "code",
   "execution_count": 48,
   "metadata": {
    "vscode": {
     "languageId": "r"
    }
   },
   "outputs": [
    {
     "name": "stdout",
     "output_type": "stream",
     "text": [
      "tibble [6,828 x 33] (S3: tbl_df/tbl/data.frame)\n",
      " $ Serial_Nr                          : Factor w/ 519 levels \"146RGH2GBD\",\"1814V6TDDA\",..: 309 367 367 407 411 367 411 411 367 367 ...\n",
      " $ Quest_Nr                           : Factor w/ 23 levels \"Int_0\",\"Int_1\",..: 19 19 20 19 19 1 20 1 1 2 ...\n",
      " $ time_started                       : POSIXct[1:6828], format: \"2024-07-14 21:25:50\" \"2024-07-16 07:48:39\" ...\n",
      " $ questions_ended                    : Factor w/ 2 levels \"finished\",\"not_finished\": 1 1 1 1 1 1 1 1 2 1 ...\n",
      " $ viewer                             : Factor w/ 1 level \"participants\": 1 1 1 1 1 1 1 1 1 1 ...\n",
      " $ where_did_the_viewer_ended         : num [1:6828] 9 9 13 9 9 5 13 5 3 5 ...\n",
      " $ where_did_the_participant_ended    : num [1:6828] 9 9 13 9 9 5 13 5 3 5 ...\n",
      " $ proportion_missing_answers         : num [1:6828] 9 9 0 18 9 0 0 0 0 0 ...\n",
      " $ proportion_missing_answers_weighted: num [1:6828] 1 1 0 11 1 0 0 0 0 0 ...\n",
      " $ answering_speed                    : num [1:6828] 0.31 0.86 1.2 0.51 0.78 0.89 0.49 0.39 0.61 1.35 ...\n",
      " $ my_group                           : Factor w/ 5 levels \"ADMIN\",\"AROMA\",..: 3 5 NA 2 4 NA NA NA NA NA ...\n",
      " $ gender                             : Factor w/ 2 levels \"female\",\"male\": 2 1 NA 1 1 NA NA NA NA NA ...\n",
      " $ age_group                          : Factor w/ 5 levels \"18-25\",\"26-35\",..: 2 5 NA 5 5 NA NA NA NA NA ...\n",
      " $ education                          : Factor w/ 5 levels \"High school\",..: 1 1 NA 1 1 NA NA NA NA NA ...\n",
      " $ educational_degree                 : Factor w/ 4 levels \"apprenticeship\",..: 4 4 NA 4 4 NA NA NA NA NA ...\n",
      " $ income                             : Factor w/ 7 levels \"1000-1499\",\"1500-1999\",..: 4 5 NA 3 5 NA NA NA NA NA ...\n",
      " $ pre_mood                           : num [1:6828] NA NA NA NA NA 6 NA 7 8 9 ...\n",
      " $ pre_emotions                       : num [1:6828] NA NA NA NA NA 9 NA 5 2 2 ...\n",
      " $ post_mood                          : num [1:6828] NA NA NA NA NA 6 NA 9 NA 9 ...\n",
      " $ post_emotions                      : num [1:6828] NA NA NA NA NA 7 NA 3 NA 3 ...\n",
      " $ aroma_received                     : num [1:6828] NA NA NA NA NA NA NA NA NA NA ...\n",
      " $ aroma_tested                       : num [1:6828] NA NA NA NA NA NA NA NA NA NA ...\n",
      " $ occupation                         : Factor w/ 7 levels \"Civil Servant\",..: 2 6 NA 5 1 NA NA NA NA NA ...\n",
      " $ stressors                          : Factor w/ 10 levels \"Children (0-6)\",..: 8 10 7 8 1 7 7 7 7 7 ...\n",
      " $ relaxation                         : Factor w/ 10 levels \"Aroma Therapy\",..: 9 3 6 9 6 6 6 6 6 6 ...\n",
      " $ MDBF_GS                            : num [1:6828] NA NA 23 NA NA NA 23 NA NA NA ...\n",
      " $ MDBF_WM                            : num [1:6828] NA NA 25 NA NA NA 24 NA NA NA ...\n",
      " $ MDBF_RU                            : num [1:6828] NA NA 25 NA NA NA 22 NA NA NA ...\n",
      " $ MDBF                               : num [1:6828] NA NA 73 NA NA NA 69 NA NA NA ...\n",
      " $ pss_helplessness                   : num [1:6828] NA NA 24 NA NA NA 18 NA NA NA ...\n",
      " $ pss_self_efficacy                  : num [1:6828] NA NA 16 NA NA NA 13 NA NA NA ...\n",
      " $ pss_total                          : num [1:6828] NA NA 40 NA NA NA 31 NA NA NA ...\n",
      " $ who5_total                         : num [1:6828] NA NA 26 NA NA NA 26 NA NA NA ...\n"
     ]
    }
   ],
   "source": [
    "str(mind)\n"
   ]
  },
  {
   "cell_type": "code",
   "execution_count": null,
   "metadata": {
    "vscode": {
     "languageId": "r"
    }
   },
   "outputs": [],
   "source": []
  },
  {
   "cell_type": "code",
   "execution_count": null,
   "metadata": {
    "vscode": {
     "languageId": "r"
    }
   },
   "outputs": [],
   "source": []
  },
  {
   "cell_type": "code",
   "execution_count": null,
   "metadata": {
    "vscode": {
     "languageId": "r"
    }
   },
   "outputs": [],
   "source": []
  },
  {
   "cell_type": "code",
   "execution_count": null,
   "metadata": {
    "vscode": {
     "languageId": "r"
    }
   },
   "outputs": [],
   "source": []
  },
  {
   "cell_type": "markdown",
   "metadata": {},
   "source": [
    "# 3-Analyses"
   ]
  },
  {
   "cell_type": "markdown",
   "metadata": {},
   "source": [
    "## In-Depth Exploratory Data Analysis\n",
    "[Back to Table of Content](#table-of-content)"
   ]
  },
  {
   "cell_type": "markdown",
   "metadata": {},
   "source": [
    "In the Exploratory Data Analysis (EDA), the data will be on examined based on distribution, investigating the correlation among variables, and exploring the connection between them and the target variable. I will commence by scrutinizing the data distribution, and subsequently, I will delve into the relationship between the target and the independent variables. This part of the analysis will incoporate all observed data point."
   ]
  },
  {
   "cell_type": "code",
   "execution_count": 108,
   "metadata": {
    "vscode": {
     "languageId": "r"
    }
   },
   "outputs": [],
   "source": [
    "# Increase the width and height of the plot\n",
    "options(repr.plot.width = 20, repr.plot.height = 30)\n",
    "\n",
    "# Save the original plot size options\n",
    "original_width <- getOption(\"repr.plot.width\")\n",
    "original_height <- getOption(\"repr.plot.height\")\n",
    "\n",
    "# Increase the base font size\n",
    "theme_set(theme_bw(base_size = 20))"
   ]
  },
  {
   "cell_type": "code",
   "execution_count": 109,
   "metadata": {
    "vscode": {
     "languageId": "r"
    }
   },
   "outputs": [],
   "source": [
    "# Define the column names\n",
    "columns <- c(\"sickday_count\", \"week1_count\", \"week2_count\", \"week3_count\", \"week4_count\", \"week5_count\", \"week6_count\")"
   ]
  },
  {
   "cell_type": "code",
   "execution_count": null,
   "metadata": {
    "vscode": {
     "languageId": "r"
    }
   },
   "outputs": [],
   "source": [
    "# Create the histograms for assessment = 1 (Baseline)\n",
    "histograms_baseline <- map(\n",
    "    columns,\n",
    "    ~ ggplot(sick_children[sick_children$Assessment == 1, ], aes(!!sym(.x))) +\n",
    "        geom_histogram(fill = \"#7cad3e\", color = \"black\", bins = 10, aes(y = after_stat(density))) +\n",
    "        labs(title = paste(\"Histogram of\", .x, \"(Baseline)\"), x = .x, y = \"Density\")\n",
    ")\n",
    "\n",
    "# Create the histograms for assessment = 2 (1 yr follow-up)\n",
    "histograms_followup <- map(\n",
    "    columns,\n",
    "    ~ ggplot(sick_children[sick_children$Assessment == 2, ], aes(!!sym(.x))) +\n",
    "        geom_histogram(fill = \"#4a6c2f\", color = \"black\", bins = 10, aes(y = after_stat(density))) +\n",
    "        labs(title = paste(\"Histogram of\", .x, \"(1 yr follow-up)\"), x = .x, y = \"Density\")\n",
    ")\n",
    "\n",
    "# Combine the histograms in a grid\n",
    "grid.arrange(grobs = c(rbind(histograms_baseline, histograms_followup)), ncol = 2)"
   ]
  },
  {
   "cell_type": "markdown",
   "metadata": {},
   "source": [
    "Looking at the histograms presented, we can observe the distributions of several variables—such as sick days and weekly counts—at two time points: baseline and after a one-year follow-up.\n",
    "\n",
    "The sick day count at both baseline and follow-up shows a clear right-skewed distribution, with the majority of individuals having a low count of sick days, and a progressively smaller number reporting higher counts. The density remains highest at zero, gradually tapering off as the sick day count increases. There is not a dramatic difference between the baseline and follow-up distributions, suggesting that the overall number of sick days for the population did not shift significantly over the year.\n",
    "\n",
    "The weekly counts for each of the six weeks at both baseline and follow-up exhibit a similar pattern, showing highly right-skewed distributions. For each of these weekly counts, the majority of values are concentrated around zero, with very few cases exceeding two or more occurrences. The follow-up distributions resemble the baseline in each case, with minimal changes in the density peaks and tails.\n",
    "\n",
    "Overall, the histograms suggest that the general behavior of the population regarding sick days and weekly counts remained stable over time. There are no clear signs of substantial changes or trends in either direction between baseline and the one-year follow-up, indicating consistency in the data patterns."
   ]
  },
  {
   "cell_type": "code",
   "execution_count": null,
   "metadata": {
    "vscode": {
     "languageId": "r"
    }
   },
   "outputs": [],
   "source": [
    "# Create the histograms for Group = 1\n",
    "histograms_group1 <- map(\n",
    "    columns,\n",
    "    ~ ggplot(sick_children[sick_children$Group == 1, ], aes(!!sym(.x))) +\n",
    "        geom_histogram(fill = \"#236477\", color = \"black\", bins = 10, aes(y = after_stat(density))) +\n",
    "        # geom_density(color = \"blue\", alpha = 0.5, linewidth = 1.5) +\n",
    "        labs(title = paste(\"Histogram of\", .x, \"(Kneipp)\"), x = .x, y = \"Density\")\n",
    ")\n",
    "\n",
    "# Create the histograms for Group = 2\n",
    "histograms_group2 <- map(\n",
    "    columns,\n",
    "    ~ ggplot(sick_children[sick_children$Group == 2, ], aes(!!sym(.x))) +\n",
    "        geom_histogram(fill = \"#cfdfda\", color = \"black\", bins = 10, aes(y = after_stat(density))) +\n",
    "        # geom_density(color = \"red\", alpha = 0.5, linewidth = 1.5) +\n",
    "        labs(title = paste(\"Histogram of\", .x, \"(Control)\"), x = .x, y = \"Density\")\n",
    ")\n",
    "\n",
    "# Combine the histograms in a grid\n",
    "grid.arrange(grobs = c(rbind(histograms_group1, histograms_group2)), ncol = 2)"
   ]
  },
  {
   "cell_type": "markdown",
   "metadata": {},
   "source": [
    "In these histograms, the distributions of sick days and weekly counts are compared between two groups: Kneipp and Control. Both groups show highly right-skewed distributions across all variables, with most of the counts concentrated around zero.\n",
    "\n",
    "For the sick day count, both the Kneipp and Control groups display a similar pattern. The majority of individuals in both groups have a low number of sick days, with a small number of cases reporting higher counts. The density remains highest at zero, with the frequency diminishing as the sick day count increases. Although the two groups are visually similar in this respect, there might be subtle differences in the density spread, which would need to be confirmed through statistical analysis.\n",
    "\n",
    "Regarding the weekly counts (week 1 through week 6), both groups show right-skewed distributions, with most values clustered around zero. This indicates that, in both the Kneipp and Control groups, the majority of participants reported few or no events in each of the weeks. Across all six weeks, there are no drastic shifts in the distribution between the groups, implying that the general pattern of weekly occurrences remains consistent.\n",
    "\n",
    "Comparing the two groups, the Control group’s distribution appears slightly more spread out in the weekly counts, particularly in the higher count ranges. However, as the visual differences are minimal, further analysis is required to determine if there are any statistically significant variations between the two groups.\n",
    "\n",
    "In summary, both the Kneipp and Control groups exhibit similar distribution patterns for both sick day counts and weekly counts, with no substantial differences visible at first glance. Further statistical tests would be needed to investigate whether these visual observations hold any significant meaning."
   ]
  },
  {
   "cell_type": "markdown",
   "metadata": {},
   "source": [
    "## Attrition Analysis\n",
    "[Back to Table of Content](#table-of-content)\n",
    "\n",
    "This analysis helps us understand the extent and patterns of participant droput or exit from the study, which can affect the validity of the study's results. It also allows us to assess whether attrition is similar across groups (experimental and control) and whether it might introduce bias."
   ]
  },
  {
   "cell_type": "code",
   "execution_count": 112,
   "metadata": {
    "vscode": {
     "languageId": "r"
    }
   },
   "outputs": [],
   "source": [
    "# Function to calculate attrition rates by `Group`\n",
    "attrition_analysis <- function(data) {\n",
    "    # Calculate attrition rates separately for each group\n",
    "    data %>%\n",
    "        summarise(\n",
    "            # Calculate the number of unique children (`Child_ID`) at baseline (`Assessment` == 1)\n",
    "            baseline_count = n_distinct(Child_ID[Assessment == 1]),\n",
    "            # Calculate the number of unique children (`Child_ID`) at follow-up (`Assessment` == 2)\n",
    "            followup_count = n_distinct(Child_ID[Assessment == 2]),\n",
    "            # Calculate the attrition rate for each group\n",
    "            attrition_rate = ((baseline_count - followup_count) / baseline_count) * 100\n",
    "        )\n",
    "}\n"
   ]
  },
  {
   "cell_type": "code",
   "execution_count": null,
   "metadata": {
    "vscode": {
     "languageId": "r"
    }
   },
   "outputs": [],
   "source": [
    "# Perform attrition analysis for the Kneipp intervention group\n",
    "attrition_results <- sick_children %>%\n",
    "    filter(Group == 1) %>%\n",
    "    attrition_analysis()\n",
    "\n",
    "# Display the attrition results\n",
    "print(attrition_results)"
   ]
  },
  {
   "cell_type": "code",
   "execution_count": null,
   "metadata": {
    "vscode": {
     "languageId": "r"
    }
   },
   "outputs": [],
   "source": [
    "# Perform attrition analysis for the Kneipp control group and print it\n",
    "attrition_results <- sick_children %>%\n",
    "    filter(Group == 2) %>%\n",
    "    attrition_analysis()\n",
    "\n",
    "print(attrition_results)"
   ]
  },
  {
   "cell_type": "markdown",
   "metadata": {},
   "source": [
    "For the Kneipp intervention group, there were 127 unique children at baseline (Assessment 1), and 125 children at follow-up (Assessment 2). The attrition rate for this group is calculated as approximately 1.57%, indicating that a very small proportion of children (just two) did not complete the follow-up.\n",
    "\n",
    "Similarly, in the Kneipp control group, there were 123 children at baseline, and 122 children at follow-up, resulting in an attrition rate of around 0.81%. This shows that only one child from the control group was lost between baseline and follow-up.\n",
    "\n",
    "Overall, the attrition rates for both groups are very low, suggesting minimal participant loss over time, which supports the validity of the findings. "
   ]
  },
  {
   "cell_type": "markdown",
   "metadata": {},
   "source": [
    "## Compliance Analysis\n",
    "[Back to Table of Content](#table-of-content)\n",
    "\n",
    "Compliance analysis helps us assess how well participants adhered to the study protocol. By understanding compliance, we can better interpret the study results and ensure that any differences observed are not due to variations in adherence across groups."
   ]
  },
  {
   "cell_type": "code",
   "execution_count": 115,
   "metadata": {
    "vscode": {
     "languageId": "r"
    }
   },
   "outputs": [],
   "source": [
    "# Function to calculate compliance\n",
    "compliance_analysis <- function(data, total_weeks = 6, days_per_week = 5) {\n",
    "  total_possible_days <- total_weeks * days_per_week\n",
    "  \n",
    "  # Calculate compliance for each child\n",
    "  data <- data %>%\n",
    "    mutate(\n",
    "      compliance = (total_possible_days - sickday_count) / total_possible_days\n",
    "    )\n",
    "  \n",
    "  # Calculate mean compliance for each group\n",
    "  mean_compliance <- data %>%\n",
    "    group_by(Group) %>%\n",
    "    dplyr::summarize(mean_compliance = mean(compliance, na.rm = TRUE) * 100)\n",
    "  \n",
    "  return(mean_compliance)\n",
    "}"
   ]
  },
  {
   "cell_type": "code",
   "execution_count": null,
   "metadata": {
    "vscode": {
     "languageId": "r"
    }
   },
   "outputs": [],
   "source": [
    "# Perform compliance analysis and output results\n",
    "compliance_results <- compliance_analysis(sick_children)\n",
    "print(compliance_results)"
   ]
  },
  {
   "cell_type": "markdown",
   "metadata": {},
   "source": [
    "For Group 1 (Kneipp intervention), the mean compliance rate is 93.6%, indicating that, on average, participants in this group followed the intervention protocol with a high level of adherence. This suggests that the majority of participants in the intervention group actively participated and engaged with the prescribed activities or treatments.\n",
    "\n",
    "In Group 2 (Kneipp control), the mean compliance rate is 91.0%, which is also quite high, though slightly lower than the intervention group. This indicates that the control group also maintained a strong level of adherence to the study protocols, though with a marginally lower average compliance compared to the intervention group.\n",
    "\n",
    "Overall, both groups exhibit high compliance rates, demonstrating that participants in both the intervention and control groups were highly engaged with the study."
   ]
  },
  {
   "cell_type": "markdown",
   "metadata": {},
   "source": [
    "## Data Imputation\n",
    "[Back to Table of Content](#table-of-content)"
   ]
  },
  {
   "cell_type": "markdown",
   "metadata": {},
   "source": [
    "We have identified that 2 children are not present at the 1 year follow up in the Kneipp group and 1 child is not present anymore in the control group. Given that the reason for dropout is likely unrelated to the outcome (i.e., transitioning to primary school), using a method such as multiple imputation to estimate the missing data would be a reasonable approach. This ensures that you retain the statistical power of your dataset without introducing bias."
   ]
  },
  {
   "cell_type": "code",
   "execution_count": 117,
   "metadata": {
    "vscode": {
     "languageId": "r"
    }
   },
   "outputs": [],
   "source": [
    "# Drop unnecessary columns\n",
    "sick_children <- sick_children %>%\n",
    "  dplyr::select(-week1_count, -week2_count, -week3_count, -week4_count, -week5_count, -week6_count)"
   ]
  },
  {
   "cell_type": "code",
   "execution_count": 118,
   "metadata": {
    "vscode": {
     "languageId": "r"
    }
   },
   "outputs": [],
   "source": [
    "# Identify the children at baseline (Assessment == 1)\n",
    "baseline_children <- sick_children %>%\n",
    "  filter(Assessment == 1) %>%\n",
    "  dplyr::select(Child_ID)"
   ]
  },
  {
   "cell_type": "code",
   "execution_count": 119,
   "metadata": {
    "vscode": {
     "languageId": "r"
    }
   },
   "outputs": [],
   "source": [
    "# Identify the children at follow-up (Assessment == 2)\n",
    "followup_children <- sick_children %>%\n",
    "  filter(Assessment == 2) %>%\n",
    "  dplyr::select(Child_ID)"
   ]
  },
  {
   "cell_type": "code",
   "execution_count": 120,
   "metadata": {
    "vscode": {
     "languageId": "r"
    }
   },
   "outputs": [],
   "source": [
    "# Find the children present at baseline but missing from follow-up\n",
    "lost_to_followup <- anti_join(baseline_children, followup_children, by = \"Child_ID\")"
   ]
  },
  {
   "cell_type": "code",
   "execution_count": 121,
   "metadata": {
    "vscode": {
     "languageId": "r"
    }
   },
   "outputs": [],
   "source": [
    "# Ensure the Assessment column in the new rows is a factor\n",
    "lost_to_followup_entries <- sick_children %>%\n",
    "  filter(Child_ID %in% lost_to_followup$Child_ID & Assessment == 1) %>%\n",
    "  mutate(\n",
    "    Assessment = factor(2, levels = levels(sick_children$Assessment)),\n",
    "    sickday_count = NA,\n",
    "    kindergarten_ID = kindergarten_ID\n",
    "  )"
   ]
  },
  {
   "cell_type": "code",
   "execution_count": 122,
   "metadata": {
    "vscode": {
     "languageId": "r"
    }
   },
   "outputs": [],
   "source": [
    "# Bind the new entries with the original data\n",
    "sick_children <- bind_rows(sick_children, lost_to_followup_entries)"
   ]
  },
  {
   "cell_type": "code",
   "execution_count": null,
   "metadata": {
    "vscode": {
     "languageId": "r"
    }
   },
   "outputs": [],
   "source": [
    "# Perform multiple imputation using Predictive Mean Matching (PMM)\n",
    "imputed_data <- mice(sick_children,\n",
    "                     m = 5,\n",
    "                     method = 'pmm',\n",
    "                     maxit = 50,\n",
    "                     seed = 123)\n"
   ]
  },
  {
   "cell_type": "code",
   "execution_count": null,
   "metadata": {
    "vscode": {
     "languageId": "r"
    }
   },
   "outputs": [],
   "source": [
    "# View a summary of the imputed data\n",
    "summary(imputed_data)"
   ]
  },
  {
   "cell_type": "markdown",
   "metadata": {},
   "source": [
    "The multiple imputation using Predictive Mean Matching (PMM) was performed to handle missing data in the variable sickday_count. A total of five imputations were generated, with each imputation iterating 50 times to ensure the best possible predictions for missing values. The imputation process focused specifically on sickday_count, as indicated by the use of the PMM method, which is effective in preserving the distribution of the original data.\n",
    "\n",
    "The predictive model used a matrix of predictors, including variables such as Assessment, kindergarten_ID, Group, and Cluster, to estimate the missing values for sickday_count. The other variables, such as Child_ID and Cluster, were treated as constant and were not imputed. The approach ensures that the imputed values are plausible within the context of the observed data, as PMM matches observed values closely to replace missing ones.\n",
    "\n",
    "Overall, the imputation was successful, with 252 events logged during the process, indicating the method effectively handled the missing data while maintaining the relationships between variables."
   ]
  },
  {
   "cell_type": "code",
   "execution_count": 125,
   "metadata": {
    "vscode": {
     "languageId": "r"
    }
   },
   "outputs": [],
   "source": [
    "# Extract the completed dataset with imputed values and save it in a new object\n",
    "completed_data <- complete(imputed_data)"
   ]
  },
  {
   "cell_type": "markdown",
   "metadata": {},
   "source": [
    "## Model\n",
    "[Back to Table of Content](#table-of-content)"
   ]
  },
  {
   "cell_type": "markdown",
   "metadata": {},
   "source": [
    "When analyzing count data, such as the number of sick days, it is common to encounter overdispersion—where the variance of the data exceeds its mean. In such cases, traditional Poisson regression models, which assume that the mean and variance are equal, become inadequate. This assumption can lead to underestimating the standard errors and biased inference, resulting in misleading conclusions.\n",
    "\n",
    "To address this issue, models that account for overdispersion are often applied. One widely used approach is the negative binomial generalized linear model (GLM), which extends the Poisson model by introducing an additional parameter to capture the overdispersion. This extra parameter allows the variance to be greater than the mean, making the model more flexible in handling data where the variability is not constant.\n",
    "\n",
    "The negative binomial model assumes that the underlying count data follows a Poisson distribution with a stochastic component that varies between observations. This variability is modeled through the introduction of a gamma-distributed random effect. As a result, the negative binomial model can accommodate data where there are more extreme values—such as a higher-than-expected number of zero sick days or an unexpectedly large number of sick days in some individuals—without sacrificing accuracy."
   ]
  },
  {
   "cell_type": "code",
   "execution_count": 126,
   "metadata": {
    "vscode": {
     "languageId": "r"
    }
   },
   "outputs": [],
   "source": [
    "# Function to calculate variance-to-mean ratio for each imputed dataset\n",
    "calc_var_mean_ratio <- function(dataset) {\n",
    "  dataset %>%\n",
    "    dplyr::summarise(\n",
    "      variance = var(sickday_count, na.rm = TRUE),\n",
    "      mean = mean(sickday_count, na.rm = TRUE),\n",
    "      ratio = variance / mean\n",
    "    )\n",
    "}"
   ]
  },
  {
   "cell_type": "code",
   "execution_count": 127,
   "metadata": {
    "vscode": {
     "languageId": "r"
    }
   },
   "outputs": [],
   "source": [
    "# Apply the function to each imputed dataset and store results\n",
    "imputed_datasets <- list()\n",
    "\n",
    "for (i in 1:5) {  # We have 5 imputations based on the original `m = 5`\n",
    "  imputed_dataset <- complete(imputed_data, action = i)\n",
    "  imputed_datasets[[i]] <- calc_var_mean_ratio(imputed_dataset)\n",
    "}"
   ]
  },
  {
   "cell_type": "code",
   "execution_count": 128,
   "metadata": {
    "vscode": {
     "languageId": "r"
    }
   },
   "outputs": [],
   "source": [
    "# Combine the results into a single data frame\n",
    "results_combined <- bind_rows(imputed_datasets)"
   ]
  },
  {
   "cell_type": "code",
   "execution_count": null,
   "metadata": {
    "vscode": {
     "languageId": "r"
    }
   },
   "outputs": [],
   "source": [
    "# Calculate and display the pooled mean for variance-to-mean ratio across all imputations\n",
    "pooled_results <- summarise(results_combined,\n",
    "                            pooled_variance = mean(variance),\n",
    "                            pooled_mean = mean(mean),\n",
    "                            pooled_ratio = mean(ratio))\n",
    "\n",
    "print(pooled_results)"
   ]
  },
  {
   "cell_type": "markdown",
   "metadata": {},
   "source": [
    "The analysis of the imputed datasets reveals important insights into the distribution of sick day counts. The pooled variance is 13.98, which is significantly higher than the pooled mean of 2.29. This results in a variance-to-mean ratio of approximately 6.11. Such a high ratio indicates strong overdispersion in the data, meaning that the variance far exceeds the mean."
   ]
  },
  {
   "cell_type": "code",
   "execution_count": 130,
   "metadata": {
    "vscode": {
     "languageId": "r"
    }
   },
   "outputs": [],
   "source": [
    "# Function to calculate the proportion of zeros in the 'sickday_count' column\n",
    "calc_zero_proportion <- function(dataset) {\n",
    "  summarise(dataset,\n",
    "            zeros = mean(sickday_count == 0, na.rm = TRUE))\n",
    "}"
   ]
  },
  {
   "cell_type": "code",
   "execution_count": 131,
   "metadata": {
    "vscode": {
     "languageId": "r"
    }
   },
   "outputs": [],
   "source": [
    "# Apply the function to each imputed dataset and store results\n",
    "imputed_zero_proportions <- list()\n",
    "\n",
    "for (i in 1:5) {  # Loop through all 5 imputations\n",
    "  imputed_dataset <- complete(imputed_data, action = i)\n",
    "  imputed_zero_proportions[[i]] <- calc_zero_proportion(imputed_dataset)\n",
    "}"
   ]
  },
  {
   "cell_type": "code",
   "execution_count": null,
   "metadata": {
    "vscode": {
     "languageId": "r"
    }
   },
   "outputs": [],
   "source": [
    "# Combine the results into a single data frame\n",
    "zero_proportions_combined <- bind_rows(imputed_zero_proportions)\n",
    "\n",
    "# Calculate and display the pooled mean for the proportion of zeros across all imputations\n",
    "pooled_zero_proportion <- summarise(zero_proportions_combined,\n",
    "                                    pooled_zeros = mean(zeros))\n",
    "\n",
    "print(pooled_zero_proportion)"
   ]
  },
  {
   "cell_type": "markdown",
   "metadata": {},
   "source": [
    "The analysis shows that 52.6% of the sickday_count values are zeros, indicating that more than half of the children had no recorded sick days. Additionally, the variance-to-mean ratio of approximately 6.11 highlights significant overdispersion in the data, where the variance far exceeds the mean.\n",
    "\n",
    "These two factors—overdispersion and the substantial proportion of zeros—strongly suggest that a negative binomial regression model is the most appropriate choice for analyzing the data. The negative binomial model accounts for overdispersion by introducing an extra parameter to handle the variance, and it naturally accommodates the presence of zeros without the need for zero-inflated modifications. Thus, it offers a robust framework for analyzing sick day counts, ensuring both the overdispersed nature and the zero-heavy distribution of the data are appropriately addressed."
   ]
  },
  {
   "cell_type": "code",
   "execution_count": 133,
   "metadata": {
    "vscode": {
     "languageId": "r"
    }
   },
   "outputs": [],
   "source": [
    "# Convert imputed data to long format\n",
    "long_imputed_data <- complete(imputed_data, action = \"long\", include = FALSE)"
   ]
  },
  {
   "cell_type": "code",
   "execution_count": 134,
   "metadata": {
    "vscode": {
     "languageId": "r"
    }
   },
   "outputs": [],
   "source": [
    "# Define the function to separate and merge baseline and follow-up data\n",
    "process_long_imputed_data <- function(data) {\n",
    "  # Separate baseline (Assessment = 1)\n",
    "  baseline_data <- data %>%\n",
    "    dplyr::filter(Assessment == 1) %>%\n",
    "    dplyr::select(Child_ID, kindergarten_ID, sickday_count, Group, Cluster, .imp) %>%\n",
    "    dplyr::rename(sickday_count_1 = sickday_count, Cluster_1 = Cluster)\n",
    "  \n",
    "  # Separate follow-up (Assessment = 2)\n",
    "  followup_data <- data %>%\n",
    "    dplyr::filter(Assessment == 2) %>%\n",
    "    dplyr::select(Child_ID, kindergarten_ID, sickday_count, Group, Cluster, .imp) %>%\n",
    "    dplyr::rename(sickday_count_2 = sickday_count, Cluster_2 = Cluster)\n",
    "  \n",
    "  # Merge baseline and follow-up data\n",
    "  merged_data <- followup_data %>%\n",
    "    dplyr::left_join(baseline_data, by = c(\"Child_ID\", \"kindergarten_ID\", \".imp\"))\n",
    "  \n",
    "  return(merged_data)\n",
    "}"
   ]
  },
  {
   "cell_type": "code",
   "execution_count": 135,
   "metadata": {
    "vscode": {
     "languageId": "r"
    }
   },
   "outputs": [],
   "source": [
    "# Apply the function to the long-format data\n",
    "merged_long_data <- process_long_imputed_data(long_imputed_data)"
   ]
  },
  {
   "cell_type": "code",
   "execution_count": 136,
   "metadata": {
    "vscode": {
     "languageId": "r"
    }
   },
   "outputs": [],
   "source": [
    "# Clean up redundant columns\n",
    "merged_imputed_data <- merged_long_data %>%\n",
    "  dplyr::select(Child_ID, kindergarten_ID, .imp, sickday_count_1, sickday_count_2, Group = Group.x, Cluster_1, Cluster_2)"
   ]
  },
  {
   "cell_type": "code",
   "execution_count": 137,
   "metadata": {
    "vscode": {
     "languageId": "r"
    }
   },
   "outputs": [],
   "source": [
    "# Split the long data by imputation number (.imp)\n",
    "split_imputed_data <- split(merged_imputed_data, merged_imputed_data$.imp)"
   ]
  },
  {
   "cell_type": "code",
   "execution_count": 138,
   "metadata": {
    "vscode": {
     "languageId": "r"
    }
   },
   "outputs": [],
   "source": [
    "# Fit the Negative Binomial GLMM with a quadratic term for sickday_count_1\n",
    "model_results <- lapply(split_imputed_data, function(data) {\n",
    "  glmmTMB(sickday_count_2 ~ Group + sickday_count_1 + I(sickday_count_1^2) + \n",
    "          (1 | Cluster_1/Group) + (1 | kindergarten_ID),\n",
    "          data = data,\n",
    "          family = nbinom2)\n",
    "})"
   ]
  },
  {
   "cell_type": "code",
   "execution_count": 139,
   "metadata": {
    "vscode": {
     "languageId": "r"
    }
   },
   "outputs": [],
   "source": [
    "# Extract the coefficients, variance-covariance matrices, random effects, and confidence intervals from each model\n",
    "model_summaries <- lapply(model_results, function(model) {\n",
    "  summary_model <- summary(model)\n",
    "  \n",
    "  # Extract coefficients (fixed effects)\n",
    "  coefs <- summary_model$coefficients$cond\n",
    "  \n",
    "  # Extract the variance-covariance matrix and ensure it's a numeric matrix\n",
    "  var_covar <- as.matrix(vcov(model)$cond)  # Extract 'cond' part and convert to matrix if necessary\n",
    "  \n",
    "  # Extract random effects (variance and standard deviation)\n",
    "  random_effects <- VarCorr(model)$cond\n",
    "  \n",
    "  # Extract confidence intervals for fixed effects\n",
    "  conf_intervals <- confint(model, parm = \"beta_\", level = 0.95)  # 95% confidence intervals\n",
    "  \n",
    "  list(coefs = coefs, var_covar = var_covar, random_effects = random_effects, conf_intervals = conf_intervals)\n",
    "})"
   ]
  },
  {
   "cell_type": "code",
   "execution_count": 140,
   "metadata": {
    "vscode": {
     "languageId": "r"
    }
   },
   "outputs": [],
   "source": [
    "# Define a function to pool the fixed effects and confidence intervals across imputed datasets\n",
    "pool_results <- function(model_summaries) {\n",
    "  \n",
    "  # Extract fixed effects (coefficients) from each imputation\n",
    "  coefs_list <- lapply(model_summaries, function(x) x$coefs)\n",
    "  \n",
    "  # Extract confidence intervals from each imputation\n",
    "  ci_list <- lapply(model_summaries, function(x) x$conf_intervals)\n",
    "  \n",
    "  # Pool coefficients (average the estimates and calculate pooled SE)\n",
    "  pooled_coefs <- Reduce(\"+\", coefs_list) / length(coefs_list)\n",
    "  \n",
    "  # Pool confidence intervals (average of lower and upper bounds)\n",
    "  pooled_ci <- Reduce(\"+\", ci_list) / length(ci_list)\n",
    "  \n",
    "  return(list(pooled_coefs = pooled_coefs, pooled_ci = pooled_ci))\n",
    "}"
   ]
  },
  {
   "cell_type": "code",
   "execution_count": 141,
   "metadata": {
    "vscode": {
     "languageId": "r"
    }
   },
   "outputs": [],
   "source": [
    "# Apply the pooling function to the model summaries\n",
    "pooled_fixed_effects <- pool_results(model_summaries)"
   ]
  },
  {
   "cell_type": "code",
   "execution_count": null,
   "metadata": {
    "vscode": {
     "languageId": "r"
    }
   },
   "outputs": [],
   "source": [
    "# Output pooled fixed effects and confidence intervals\n",
    "pooled_fixed_effects$pooled_coefs\n",
    "pooled_fixed_effects$pooled_ci"
   ]
  },
  {
   "cell_type": "markdown",
   "metadata": {},
   "source": [
    "**Intercept:** The intercept estimate is -0.82, with a standard error of 0.50 and a p-value of 0.10. The confidence interval (-1.81 to 0.16) includes zero, suggesting that the intercept is not statistically significant. This means that when adjusting for group and baseline sick days, the predicted number of follow-up sick days does not significantly differ from zero.\n",
    "\n",
    "**Group (Intervention vs. Control):** The main variable of interest in the model is the effect of the intervention group (Group). In this case, Group = 1 represents the intervention group, and Group = 2 represents the control group. The positive coefficient for Group is 0.75, with a p-value of 0.0094, indicating that this result is statistically significant. The confidence interval (0.18 to 1.32) further supports this finding.\n",
    "\n",
    "Since the control group (Group = 2) is the reference category, the positive coefficient means that the intervention group (Group = 1) had fewer sick days at follow-up compared to the control group. This suggests that the intervention was effective in reducing the number of sick days. The significant difference indicates a meaningful impact of the intervention on reducing absenteeism due to illness.\n",
    "\n",
    "**Baseline Sick Days (sickday_count_1):** The baseline number of sick days was included to control for differences in initial health status. The estimated coefficient for sickday_count_1 is 0.10, with a p-value of 0.29, and the confidence interval (-0.08 to 0.27) includes zero, indicating that baseline sick days do not have a significant effect on follow-up sick days. While the baseline number of sick days is not a strong predictor, its inclusion helps ensure that the observed effect of the intervention group is not confounded by differences in starting conditions between children.\n",
    "\n",
    "**Quadratic Term for Baseline Sick Days (I(sickday_count_1^2)):** The quadratic term was included to account for potential non-linear effects in baseline sick days, such as diminishing returns where higher baseline sick days might not predict follow-up sick days in a linear fashion. However, the estimated coefficient of -0.0025 is not statistically significant (p = 0.63), and the confidence interval (-0.013 to 0.008) suggests no strong non-linear relationship. Although the quadratic term was not significant, its inclusion ensures that the model accounts for any potential curvature in the relationship between baseline and follow-up sick days.\n",
    "\n",
    "**Summary:** The main takeaway from the model is that the intervention group (Group = 1) had significantly fewer sick days at follow-up compared to the control group (Group = 2), after adjusting for baseline differences in sick days. Although baseline sick days were not significant predictors, they were included to control for pre-existing differences between the groups. The intervention's effect is statistically significant, suggesting that it had a beneficial impact on reducing absenteeism due to illness.\n",
    "\n",
    "In conclusion, the intervention was effective in reducing sick days among children, while controlling for baseline sick day differences. This finding highlights the success of the intervention in improving health outcomes in the target population."
   ]
  },
  {
   "cell_type": "code",
   "execution_count": 143,
   "metadata": {
    "vscode": {
     "languageId": "r"
    }
   },
   "outputs": [],
   "source": [
    "# Define a function to pool random effects (variance components) across imputations\n",
    "pool_random_effects <- function(model_summaries) {\n",
    "  \n",
    "  # Extract numeric variances from random effects in each imputation\n",
    "  random_effects_list <- lapply(model_summaries, function(x) {\n",
    "    lapply(x$random_effects, function(re) {\n",
    "      # Extract the standard deviation and square it to get variance\n",
    "      stddev <- attr(re, \"stddev\")\n",
    "      variance <- stddev^2  # Variance is the square of the standard deviation\n",
    "      return(variance)\n",
    "    })\n",
    "  })\n",
    "  \n",
    "  # Combine and average the random effects (variances)\n",
    "  pooled_random_effects <- Reduce(function(a, b) mapply(\"+\", a, b), random_effects_list) / length(random_effects_list)\n",
    "  \n",
    "  return(pooled_random_effects)\n",
    "}"
   ]
  },
  {
   "cell_type": "code",
   "execution_count": null,
   "metadata": {
    "vscode": {
     "languageId": "r"
    }
   },
   "outputs": [],
   "source": [
    "# Apply the pooling function to random effects\n",
    "pooled_random_effects <- pool_random_effects(model_summaries)\n",
    "pooled_random_effects"
   ]
  },
  {
   "cell_type": "markdown",
   "metadata": {},
   "source": [
    "The pooled random effects (variance components) from the model summarize the variability attributed to different groupings in the dataset—specifically, the clusters and kindergartens. These variances represent the random variability across the groupings, which allows us to understand how much of the variation in sick days is explained by differences between clusters and kindergartens, after controlling for fixed effects like group and baseline sick days.\n",
    "\n",
    "1. Group Variance: The variance associated with the grouping of clusters within the intervention and control groups is extremely small, almost zero (4.66e-10). This indicates that there is very little random variability at the cluster level beyond what is explained by the fixed effects in the model. In other words, after accounting for the intervention effect and baseline sick days, clusters within groups do not contribute much additional variability to the number of sick days.\n",
    "\n",
    "2. Cluster_1 Variance: The variance for Cluster_1 is 0.0286, meaning there is a small amount of random variability at the cluster level. This suggests that while clusters do contribute to some of the variability in sick days, it is relatively minor compared to the overall variability in the dataset.\n",
    "\n",
    "3. kindergarten_ID Variance: The variance associated with the kindergartens is also very small (2.74e-09), indicating that differences between individual kindergartens contribute very little to the overall variation in sick days. Similar to the cluster-level variance, the variation between kindergartens is minimal after accounting for fixed effects.\n",
    "\n",
    "**Conclusion:** The random effects (variance components) indicate that most of the variation in sick days is explained by the fixed effects, such as the intervention group and baseline sick days. There is only a small amount of additional random variability attributed to clusters and kindergartens, and it is relatively minor compared to the overall variation in the dataset. This suggests that the intervention group and baseline factors are the primary drivers of the differences in sick days, rather than random differences between clusters or kindergartens."
   ]
  },
  {
   "cell_type": "code",
   "execution_count": null,
   "metadata": {
    "vscode": {
     "languageId": "r"
    }
   },
   "outputs": [],
   "source": [
    "# IRR (Incident Rate Ratio) for Group\n",
    "irr_group <- exp(pooled_fixed_effects$pooled_coefs[\"Group\", \"Estimate\"])\n",
    "\n",
    "# 95% CI for the IRR (exponentiate the lower and upper bounds of the confidence intervals)\n",
    "irr_ci_lower <- exp(pooled_fixed_effects$pooled_ci[\"Group\", \"2.5 %\"])\n",
    "irr_ci_upper <- exp(pooled_fixed_effects$pooled_ci[\"Group\", \"97.5 %\"])\n",
    "\n",
    "# Output the IRR and 95% CI\n",
    "cat(\"Incident Rate Ratio (IRR) for Group:\", irr_group, \"\\n\")\n",
    "cat(\"95% CI for IRR: [\", irr_ci_lower, \",\", irr_ci_upper, \"]\\n\")\n"
   ]
  },
  {
   "cell_type": "markdown",
   "metadata": {},
   "source": [
    "The Incident Rate Ratio (IRR) for the Group variable is 2.12, with a 95% confidence interval of [1.20, 3.73]. This means that the control group (Group = 2) had approximately 2.12 times more sick days at follow-up compared to the intervention group (Group = 1).\n",
    "\n",
    "Since the confidence interval (1.20 to 3.73) is entirely above 1, this result is statistically significant, indicating that the intervention was associated with a significant reduction in sick days. In other words, children in the intervention group experienced significantly fewer sick days compared to those in the control group.\n",
    "\n",
    "This finding suggests that the intervention was effective in reducing absenteeism due to illness, and the difference between the two groups is unlikely to have occurred by chance. Further analysis could explore the mechanisms by which the intervention contributed to this reduction in sick days."
   ]
  },
  {
   "cell_type": "code",
   "execution_count": 146,
   "metadata": {
    "vscode": {
     "languageId": "r"
    }
   },
   "outputs": [],
   "source": [
    "# Define a function to calculate mean, SD, range, and sample size for each group in each imputed dataset\n",
    "calc_mean_sd_range <- function(data) {\n",
    "  group_1_data <- data[data$Group == 1, ]\n",
    "  group_2_data <- data[data$Group == 2, ]\n",
    "  \n",
    "  # Calculate mean, SD, range, and sample size for Group 1 (Kneipp)\n",
    "  mean_group_1 <- mean(group_1_data$sickday_count_2, na.rm = TRUE)\n",
    "  sd_group_1 <- sd(group_1_data$sickday_count_2, na.rm = TRUE)\n",
    "  range_group_1 <- range(group_1_data$sickday_count_2, na.rm = TRUE)\n",
    "  n_group_1 <- sum(!is.na(group_1_data$sickday_count_2))\n",
    "  \n",
    "  # Calculate mean, SD, range, and sample size for Group 2 (Control)\n",
    "  mean_group_2 <- mean(group_2_data$sickday_count_2, na.rm = TRUE)\n",
    "  sd_group_2 <- sd(group_2_data$sickday_count_2, na.rm = TRUE)\n",
    "  range_group_2 <- range(group_2_data$sickday_count_2, na.rm = TRUE)\n",
    "  n_group_2 <- sum(!is.na(group_2_data$sickday_count_2))\n",
    "  \n",
    "  return(list(\n",
    "    mean_group_1 = mean_group_1, sd_group_1 = sd_group_1, range_group_1 = range_group_1, n_group_1 = n_group_1,\n",
    "    mean_group_2 = mean_group_2, sd_group_2 = sd_group_2, range_group_2 = range_group_2, n_group_2 = n_group_2\n",
    "  ))\n",
    "}"
   ]
  },
  {
   "cell_type": "code",
   "execution_count": null,
   "metadata": {
    "vscode": {
     "languageId": "r"
    }
   },
   "outputs": [],
   "source": [
    "# Apply the function to each imputed dataset\n",
    "results <- lapply(split_imputed_data, calc_mean_sd_range)\n",
    "\n",
    "# Pool the mean, SD, and range for each group by taking the average across imputations\n",
    "pooled_mean_group_1 <- mean(sapply(results, function(x) x$mean_group_1))\n",
    "pooled_sd_group_1 <- mean(sapply(results, function(x) x$sd_group_1))\n",
    "pooled_range_group_1 <- range(unlist(lapply(results, function(x) x$range_group_1)))\n",
    "pooled_n_group_1 <- mean(sapply(results, function(x) x$n_group_1)) # Pooling sample size for Group 1\n",
    "\n",
    "pooled_mean_group_2 <- mean(sapply(results, function(x) x$mean_group_2))\n",
    "pooled_sd_group_2 <- mean(sapply(results, function(x) x$sd_group_2))\n",
    "pooled_range_group_2 <- range(unlist(lapply(results, function(x) x$range_group_2)))\n",
    "pooled_n_group_2 <- mean(sapply(results, function(x) x$n_group_2)) # Pooling sample size for Group 2\n",
    "\n",
    "# Output the pooled results\n",
    "cat(\"Pooled Results - Group 1 (Kneipp): Mean =\", pooled_mean_group_1, \"SD =\", pooled_sd_group_1, \"Range =\", pooled_range_group_1, \"N =\", pooled_n_group_1, \"\\n\")\n",
    "cat(\"Pooled Results - Group 2 (Control): Mean =\", pooled_mean_group_2, \"SD =\", pooled_sd_group_2, \"Range =\", pooled_range_group_2, \"N =\", pooled_n_group_2, \"\\n\")\n"
   ]
  },
  {
   "cell_type": "markdown",
   "metadata": {},
   "source": [
    "The results of the negative binomial regression model, combined with the descriptive statistics, provide a clear picture of the impact of the intervention (Kneipp group) on sick days. The Incident Rate Ratio (IRR) for the intervention group (Group = 1) compared to the control group (Group = 2) is 2.12 with a statistically significant 95% confidence interval [1.20, 3.73]. This indicates that the control group had over twice the number of sick days at follow-up compared to the intervention group, suggesting that the intervention effectively reduced absenteeism due to illness.\n",
    "\n",
    "The pooled descriptive statistics further support this conclusion. The mean number of sick days for the intervention group was 1.22 (SD = 3.11), while the control group had a mean of 2.55 (SD = 4.10). Additionally, the range of sick days was similar across both groups, with 0 to 20 days for the intervention group and 0 to 23 days for the control group, though the control group exhibited more variability, as indicated by the higher standard deviation.\n",
    "\n",
    "In summary, the intervention group experienced significantly fewer sick days compared to the control group, as confirmed by both the negative binomial model and the descriptive statistics. This suggests that the intervention had a positive effect in reducing the number of sick days among children, making it a potentially effective strategy for improving health outcomes."
   ]
  },
  {
   "cell_type": "markdown",
   "metadata": {},
   "source": [
    "## Assumptions\n",
    "[Back to Table of Content](#table-of-content)"
   ]
  },
  {
   "cell_type": "markdown",
   "metadata": {},
   "source": [
    "Residual Diagnostics (Pearson Residual using DHARMa)"
   ]
  },
  {
   "cell_type": "code",
   "execution_count": null,
   "metadata": {
    "vscode": {
     "languageId": "r"
    }
   },
   "outputs": [],
   "source": [
    "# Extract residuals for the first imputed model\n",
    "sim_res <- simulateResiduals(fittedModel = model_results[[1]])\n",
    "\n",
    "# Define the path where the .png will be saved\n",
    "output_residual_path <- \"/Users/stevenschepanski/Documents/04_ANALYSIS/Kneipp/graphs/residual_plot.png\"\n",
    "\n",
    "# Save the plot to the specified path with adjusted dimensions\n",
    "png(output_residual_path, width = 800, height = 400)\n",
    "par(bg = \"white\", mar = c(5, 4, 4, 2) + 0.1)  # Set background to white and adjust margins\n",
    "plot(sim_res)\n",
    "dev.off()\n",
    "\n",
    "# Suppress graphical output from testResiduals and capture only the test results\n",
    "invisible(capture.output({\n",
    "  test_results <- testResiduals(sim_res, plot = FALSE)  # Set plot to FALSE to suppress graphs\n",
    "}))\n",
    "\n",
    "# Display the test results\n",
    "print(test_results)"
   ]
  },
  {
   "cell_type": "markdown",
   "metadata": {},
   "source": [
    "The diagnostic tests and residual plots provide a comprehensive assessment of the assumptions underlying the negative binomial regression model. First, the Kolmogorov-Smirnov test checks whether the residuals are uniformly distributed, which is a key assumption of the model. The test returned a p-value of 0.5745, indicating no significant deviation from a uniform distribution. This suggests that the model fits the data well in terms of uniformity, and there are no substantial issues with how the model captures the overall distribution of the data.\n",
    "\n",
    "Next, the dispersion test evaluates whether the model is appropriately accounting for the variability in the data—essentially checking for overdispersion or underdispersion. The p-value of 0.344 from this test suggests that the model does not exhibit significant over- or under-dispersion. This indicates that the negative binomial model has successfully handled the variability in the sick day counts, further validating its appropriateness for the analysis.\n",
    "\n",
    "The outlier test checks for any extreme values that may unduly influence the model’s fit. The observed outlier frequency was very close to the expected value, with no significant deviations (p-value = 1.0). This implies that there are no problematic outliers affecting the model, confirming that the model adequately captures the data without being skewed by extreme cases.\n",
    "\n",
    "The visual inspection of the residual plots reinforces these findings. The QQ plot shows that the residuals closely follow the expected distribution, with no significant deviations from the reference line. This further supports the conclusion that the residuals are well-behaved under the model. Similarly, the plot of residuals versus predicted values shows a consistent distribution across the range of predicted values, with no visible patterns or anomalies, suggesting that the model assumptions of homoscedasticity and linearity are satisfied.\n",
    "\n",
    "In summary, the diagnostic tests and residual plots together confirm that the negative binomial regression model fits the data well. There are no significant issues with uniformity, dispersion, or outliers, indicating that the model is reliable for interpreting the relationship between the intervention and sick days. The results of the model can thus be confidently used for inference, with the model's assumptions holding up under scrutiny."
   ]
  },
  {
   "cell_type": "code",
   "execution_count": null,
   "metadata": {
    "vscode": {
     "languageId": "r"
    }
   },
   "outputs": [],
   "source": [
    "# Save the dispersion plot to a .png file\n",
    "output_dispersion_path <- \"/Users/stevenschepanski/Documents/04_ANALYSIS/Kneipp/graphs/dispersion_plot.png\"\n",
    "\n",
    "# Save the dispersion plot as a PNG and capture the test results\n",
    "png(output_dispersion_path, width = 800, height = 400)\n",
    "par(bg = \"white\", mar = c(5, 4, 4, 2) + 0.1)  # Set background to white and adjust margins\n",
    "\n",
    "# Plot the dispersion test and save it, but also capture the results\n",
    "dispersion_test_results <- testDispersion(sim_res)  # This generates the plot and captures the results\n",
    "dev.off()  # Close the device to save the plot\n",
    "\n",
    "# Display the overdispersion test results (without repeating the graph)\n",
    "print(dispersion_test_results)"
   ]
  },
  {
   "cell_type": "markdown",
   "metadata": {},
   "source": [
    "The DHARMa nonparametric dispersion test assesses whether there is significant overdispersion or underdispersion in the residuals of the model. In this case, the dispersion value is 0.576, with a p-value of 0.344. The p-value indicates that there is no significant evidence of overdispersion or underdispersion in the model's residuals, meaning that the variance of the residuals is in line with what is expected under the negative binomial model. In other words, the model adequately accounts for the variability in the data, and no further adjustments are needed to address dispersion issues. This suggests that the negative binomial regression is appropriate for this dataset and performs well in capturing the data's inherent variability."
   ]
  },
  {
   "cell_type": "code",
   "execution_count": null,
   "metadata": {
    "vscode": {
     "languageId": "r"
    }
   },
   "outputs": [],
   "source": [
    "# Save the zero inflation plot to a .png file\n",
    "output_zero_inflation_path <- \"/Users/stevenschepanski/Documents/04_ANALYSIS/Kneipp/graphs/zero_inflation_plot.png\"\n",
    "\n",
    "# Save the zero inflation plot as a PNG and capture the test results\n",
    "png(output_zero_inflation_path, width = 800, height = 400)\n",
    "par(bg = \"white\", mar = c(5, 4, 4, 2) + 0.1)  # Set background to white and adjust margins\n",
    "\n",
    "# Plot the zero inflation test and save it, while also capturing the results\n",
    "zero_inflation_test_results <- testZeroInflation(sim_res)  # This generates the plot and captures the results\n",
    "dev.off()  # Close the device to save the plot\n",
    "\n",
    "# Display the zero inflation test results (without repeating the graph)\n",
    "print(zero_inflation_test_results)"
   ]
  },
  {
   "cell_type": "markdown",
   "metadata": {},
   "source": [
    "The DHARMa zero-inflation test compares the observed number of zeros in the data to the expected number of zeros under the fitted negative binomial model. The observed-to-expected ratio (ratioObsSim) is 1.0237, which indicates that the number of observed zeros is very close to what the model predicts. The p-value of 0.768 suggests that there is no significant deviation between the observed and expected number of zeros, meaning there is no evidence of zero inflation in the data.\n",
    "\n",
    "This result implies that the negative binomial model appropriately captures the zero counts in the dataset, and there is no need to consider a zero-inflated model. In other words, the fitted model effectively handles the distribution of zeros, and the data do not show an excess of zero counts that would require further adjustments."
   ]
  },
  {
   "cell_type": "code",
   "execution_count": null,
   "metadata": {
    "vscode": {
     "languageId": "r"
    }
   },
   "outputs": [],
   "source": [
    "# Extract and plot random effects\n",
    "ranef_results <- ranef(model_results[[1]], condVar = TRUE)\n",
    "\n",
    "# Define paths for saving the plots\n",
    "output_cluster_path <- \"/Users/stevenschepanski/Documents/04_ANALYSIS/Kneipp/graphs/random_effects_cluster.png\"\n",
    "output_kindergarten_path <- \"/Users/stevenschepanski/Documents/04_ANALYSIS/Kneipp/graphs/random_effects_kindergarten.png\"\n",
    "\n",
    "# Save the random effects plot for Cluster_1\n",
    "png(output_cluster_path, width = 800, height = 400)\n",
    "par(bg = \"white\", mar = c(5, 4, 4, 2))  # Set background to white and adjust margins\n",
    "plot(ranef_results$cond$Cluster_1, main = \"Random Effects for Cluster_1\")\n",
    "dev.off()  # Close the device to save the plot\n",
    "\n",
    "# Save the random effects plot for kindergarten_ID\n",
    "png(output_kindergarten_path, width = 800, height = 400)\n",
    "par(bg = \"white\", mar = c(5, 4, 4, 2))  # Set background to white and adjust margins\n",
    "plot(ranef_results$cond$kindergarten_ID, main = \"Random Effects for kindergarten_ID\")\n",
    "dev.off()  # Close the device to save the plot"
   ]
  },
  {
   "cell_type": "markdown",
   "metadata": {},
   "source": [
    "**Interpretation of the Random Effects for Cluster_1**\n",
    "\n",
    "In the first plot, we are looking at the random effects for Cluster_1. The values on the x-axis represent the estimated random effects, and the spread of these values shows the variation between clusters. The random effects range from approximately -0.05 to 0.10, suggesting there is some variability between clusters. However, the variation appears to be quite small, as the random effects are centered close to zero with no extreme deviations. This implies that the Cluster_1 grouping (which may represent different clusters or subgroups within the study) does not contribute much additional variability to the outcome after controlling for the fixed effects in the model. The small magnitude of these random effects suggests that the influence of Cluster_1 is relatively limited.\n",
    "\n",
    "**Interpretation of the Random Effects for kindergarten_ID**\n",
    "\n",
    "In the second plot, we are looking at the random effects for kindergarten_ID, which represent the variability between different kindergartens. The random effects are extremely small, with values clustered around zero, ranging between approximately -5e-09 and 5e-09. This indicates that there is very little variability attributed to individual kindergartens. In practical terms, this suggests that the differences between kindergartens in this study are minimal, and the kindergarten-level grouping does not introduce substantial variation into the model. Like the random effects for Cluster_1, these small random effects for kindergarten_ID indicate that most of the variability in the outcome is likely explained by the fixed effects and not by differences between kindergartens.\n",
    "\n",
    "**Summary:**\n",
    "\n",
    "In both plots, the random effects for Cluster_1 and kindergarten_ID show relatively small variability, suggesting that these group-level random effects are not contributing significant additional variation to the model. This supports the interpretation that most of the outcome variability is captured by the fixed effects rather than these random groupings."
   ]
  },
  {
   "cell_type": "code",
   "execution_count": null,
   "metadata": {
    "vscode": {
     "languageId": "r"
    }
   },
   "outputs": [],
   "source": [
    "# Define path for saving the residuals plot\n",
    "output_residuals_path <- \"/Users/stevenschepanski/Documents/04_ANALYSIS/Kneipp/graphs/residuals_vs_sickday_count_1.png\"\n",
    "\n",
    "# Save the residuals plot as a PNG\n",
    "png(output_residuals_path, width = 800, height = 400)\n",
    "par(bg = \"white\", mar = c(5, 4, 4, 2))  # Set background to white and adjust margins\n",
    "\n",
    "# Plot residuals against continuous predictor 'sickday_count_1'\n",
    "plotResiduals(sim_res, complete(imputed_data, action = 1)$sickday_count_1, \n",
    "              xlab = \"sickday_count_1\", ylab = \"Residuals\")\n",
    "dev.off()  # Close the device to save the plot"
   ]
  },
  {
   "cell_type": "markdown",
   "metadata": {},
   "source": [
    "The plot displays the residuals against the continuous predictor sickday_count_1 (baseline sick days) to assess whether there is a systematic relationship between the predictor and the residuals. The residuals, which represent the differences between the observed values and the model's predicted values, are distributed relatively evenly across the range of sickday_count_1, with no obvious patterns or trends. This suggests that the model has effectively captured the relationship between sickday_count_1 and the outcome, and that the predictor has been appropriately modeled.\n",
    "\n",
    "The gray shaded areas surrounding the trend lines represent the 95% confidence intervals for the residuals. The residuals are mostly contained within these intervals, further supporting the notion that the model fits well. Additionally, there is no indication of any clustering or systematic trend in the residuals, which would have suggested that the model was failing to account for some aspect of the relationship between sickday_count_1 and the outcome.\n",
    "\n",
    "The annotation at the top of the plot, stating \"No significant problems detected,\" confirms that the diagnostic check did not reveal any major issues with the model’s fit in relation to the predictor sickday_count_1. In conclusion, this plot shows that the negative binomial regression model appropriately accounts for the effect of sickday_count_1, with the residuals being evenly distributed and no signs of significant problems detected in the model fit."
   ]
  },
  {
   "cell_type": "markdown",
   "metadata": {},
   "source": [
    "# 4-General Conclusion\n",
    "[Back to Table of Content](#table-of-content)"
   ]
  },
  {
   "cell_type": "markdown",
   "metadata": {},
   "source": [
    "This analysis aimed to evaluate the impact of the Kneipp concept on kindergarten children's health, with a specific focus on reducing infection-related absenteeism over a 12-month period. The Kneipp concept, which emphasizes a holistic approach to health through cold water applications, exercise, nutrition, herbs, and life balance, has long been a part of European tradition. However, its specific health benefits for children, particularly in the context of kindergartens, remained largely unexplored prior to this study.\n",
    "\n",
    "Throughout the analysis, we conducted an in-depth exploration of the dataset, including rigorous data preprocessing and imputation to address missing values. This was followed by an examination of compliance and attrition rates to ensure data integrity. The negative binomial regression model was used to analyze infection-related absenteeism, as it is particularly suited to handling overdispersed count data, such as the number of sick days.\n",
    "\n",
    "Our assumptions testing revealed that the model met key criteria for validity, with no signs of overdispersion, zero inflation, or problematic residual patterns. This ensured that the negative binomial regression was appropriate for our dataset and that the results could be interpreted with confidence.\n",
    "\n",
    "The results of the analysis indicated that the implementation of the Kneipp concept in kindergartens was associated with a reduction in infection-related absenteeism. The intervention group showed fewer sick days compared to the control group, supporting the hypothesis that the Kneipp approach improves resilience among children by enhancing their ability to avoid illness.\n",
    "\n",
    "In conclusion, this analysis demonstrates that the Kneipp concept has the potential to significantly reduce infection-related absenteeism among kindergarten children. These findings suggest that the holistic practices emphasized by the Kneipp concept could be beneficial in promoting health and wellness in educational settings, contributing to better overall outcomes for children. This provides a strong foundation for further research into the benefits of such integrative health interventions in early childhood education."
   ]
  }
 ],
 "metadata": {
  "kernelspec": {
   "display_name": "R",
   "language": "R",
   "name": "ir"
  },
  "language_info": {
   "codemirror_mode": "r",
   "file_extension": ".r",
   "mimetype": "text/x-r-source",
   "name": "R",
   "pygments_lexer": "r",
   "version": "4.3.2"
  }
 },
 "nbformat": 4,
 "nbformat_minor": 2
}
